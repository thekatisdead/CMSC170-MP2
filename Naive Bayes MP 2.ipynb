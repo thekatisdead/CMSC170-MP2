{
 "cells": [
  {
   "cell_type": "code",
   "execution_count": 1,
   "id": "aa950fc7",
   "metadata": {},
   "outputs": [],
   "source": [
    "import numpy as np\n",
    "import pandas as pd\n",
    "import matplotlib.pyplot as plt\n",
    "import seaborn as sns\n",
    "sns.set_style('darkgrid')\n",
    "\n",
    "classifiers = {}"
   ]
  },
  {
   "cell_type": "markdown",
   "id": "2d7516e9",
   "metadata": {},
   "source": [
    "# Dataset"
   ]
  },
  {
   "cell_type": "code",
   "execution_count": 2,
   "id": "da1d740b",
   "metadata": {},
   "outputs": [
    {
     "data": {
      "text/html": [
       "<div>\n",
       "<style scoped>\n",
       "    .dataframe tbody tr th:only-of-type {\n",
       "        vertical-align: middle;\n",
       "    }\n",
       "\n",
       "    .dataframe tbody tr th {\n",
       "        vertical-align: top;\n",
       "    }\n",
       "\n",
       "    .dataframe thead th {\n",
       "        text-align: right;\n",
       "    }\n",
       "</style>\n",
       "<table border=\"1\" class=\"dataframe\">\n",
       "  <thead>\n",
       "    <tr style=\"text-align: right;\">\n",
       "      <th></th>\n",
       "      <th>gender</th>\n",
       "      <th>age</th>\n",
       "      <th>hypertension</th>\n",
       "      <th>heart_disease</th>\n",
       "      <th>smoking_history</th>\n",
       "      <th>bmi</th>\n",
       "      <th>HbA1c_level</th>\n",
       "      <th>blood_glucose_level</th>\n",
       "      <th>diabetes</th>\n",
       "    </tr>\n",
       "  </thead>\n",
       "  <tbody>\n",
       "    <tr>\n",
       "      <th>0</th>\n",
       "      <td>0</td>\n",
       "      <td>80.0</td>\n",
       "      <td>0</td>\n",
       "      <td>1</td>\n",
       "      <td>0</td>\n",
       "      <td>25.19</td>\n",
       "      <td>6.6</td>\n",
       "      <td>140</td>\n",
       "      <td>0</td>\n",
       "    </tr>\n",
       "    <tr>\n",
       "      <th>1</th>\n",
       "      <td>1</td>\n",
       "      <td>28.0</td>\n",
       "      <td>0</td>\n",
       "      <td>0</td>\n",
       "      <td>0</td>\n",
       "      <td>27.32</td>\n",
       "      <td>5.7</td>\n",
       "      <td>158</td>\n",
       "      <td>0</td>\n",
       "    </tr>\n",
       "    <tr>\n",
       "      <th>2</th>\n",
       "      <td>0</td>\n",
       "      <td>36.0</td>\n",
       "      <td>0</td>\n",
       "      <td>0</td>\n",
       "      <td>3</td>\n",
       "      <td>23.45</td>\n",
       "      <td>5.0</td>\n",
       "      <td>155</td>\n",
       "      <td>0</td>\n",
       "    </tr>\n",
       "    <tr>\n",
       "      <th>3</th>\n",
       "      <td>1</td>\n",
       "      <td>76.0</td>\n",
       "      <td>1</td>\n",
       "      <td>1</td>\n",
       "      <td>3</td>\n",
       "      <td>20.14</td>\n",
       "      <td>4.8</td>\n",
       "      <td>155</td>\n",
       "      <td>0</td>\n",
       "    </tr>\n",
       "    <tr>\n",
       "      <th>4</th>\n",
       "      <td>0</td>\n",
       "      <td>20.0</td>\n",
       "      <td>0</td>\n",
       "      <td>0</td>\n",
       "      <td>0</td>\n",
       "      <td>27.32</td>\n",
       "      <td>6.6</td>\n",
       "      <td>85</td>\n",
       "      <td>0</td>\n",
       "    </tr>\n",
       "    <tr>\n",
       "      <th>5</th>\n",
       "      <td>0</td>\n",
       "      <td>44.0</td>\n",
       "      <td>0</td>\n",
       "      <td>0</td>\n",
       "      <td>0</td>\n",
       "      <td>19.31</td>\n",
       "      <td>6.5</td>\n",
       "      <td>200</td>\n",
       "      <td>1</td>\n",
       "    </tr>\n",
       "    <tr>\n",
       "      <th>6</th>\n",
       "      <td>1</td>\n",
       "      <td>42.0</td>\n",
       "      <td>0</td>\n",
       "      <td>0</td>\n",
       "      <td>0</td>\n",
       "      <td>33.64</td>\n",
       "      <td>4.8</td>\n",
       "      <td>145</td>\n",
       "      <td>0</td>\n",
       "    </tr>\n",
       "    <tr>\n",
       "      <th>7</th>\n",
       "      <td>0</td>\n",
       "      <td>32.0</td>\n",
       "      <td>0</td>\n",
       "      <td>0</td>\n",
       "      <td>0</td>\n",
       "      <td>27.32</td>\n",
       "      <td>5.0</td>\n",
       "      <td>100</td>\n",
       "      <td>0</td>\n",
       "    </tr>\n",
       "    <tr>\n",
       "      <th>8</th>\n",
       "      <td>0</td>\n",
       "      <td>53.0</td>\n",
       "      <td>0</td>\n",
       "      <td>0</td>\n",
       "      <td>0</td>\n",
       "      <td>27.32</td>\n",
       "      <td>6.1</td>\n",
       "      <td>85</td>\n",
       "      <td>0</td>\n",
       "    </tr>\n",
       "    <tr>\n",
       "      <th>9</th>\n",
       "      <td>0</td>\n",
       "      <td>54.0</td>\n",
       "      <td>0</td>\n",
       "      <td>0</td>\n",
       "      <td>2</td>\n",
       "      <td>54.70</td>\n",
       "      <td>6.0</td>\n",
       "      <td>100</td>\n",
       "      <td>0</td>\n",
       "    </tr>\n",
       "  </tbody>\n",
       "</table>\n",
       "</div>"
      ],
      "text/plain": [
       "   gender   age  hypertension  heart_disease  smoking_history    bmi  \\\n",
       "0       0  80.0             0              1                0  25.19   \n",
       "1       1  28.0             0              0                0  27.32   \n",
       "2       0  36.0             0              0                3  23.45   \n",
       "3       1  76.0             1              1                3  20.14   \n",
       "4       0  20.0             0              0                0  27.32   \n",
       "5       0  44.0             0              0                0  19.31   \n",
       "6       1  42.0             0              0                0  33.64   \n",
       "7       0  32.0             0              0                0  27.32   \n",
       "8       0  53.0             0              0                0  27.32   \n",
       "9       0  54.0             0              0                2  54.70   \n",
       "\n",
       "   HbA1c_level  blood_glucose_level  diabetes  \n",
       "0          6.6                  140         0  \n",
       "1          5.7                  158         0  \n",
       "2          5.0                  155         0  \n",
       "3          4.8                  155         0  \n",
       "4          6.6                   85         0  \n",
       "5          6.5                  200         1  \n",
       "6          4.8                  145         0  \n",
       "7          5.0                  100         0  \n",
       "8          6.1                   85         0  \n",
       "9          6.0                  100         0  "
      ]
     },
     "execution_count": 2,
     "metadata": {},
     "output_type": "execute_result"
    }
   ],
   "source": [
    "data = pd.read_csv(\"dataset_modified.csv\")\n",
    "data.head(10) "
   ]
  },
  {
   "cell_type": "markdown",
   "id": "6c98a0e2",
   "metadata": {},
   "source": [
    "# Basic EDA"
   ]
  },
  {
   "cell_type": "markdown",
   "id": "50e38114",
   "metadata": {},
   "source": [
    "Checking if the features are independent"
   ]
  },
  {
   "cell_type": "code",
   "execution_count": 3,
   "id": "a8328afc",
   "metadata": {},
   "outputs": [
    {
     "data": {
      "text/plain": [
       "<Axes: >"
      ]
     },
     "execution_count": 3,
     "metadata": {},
     "output_type": "execute_result"
    },
    {
     "data": {
      "image/png": "[encoded data removed]",
      "text/plain": [
       "<Figure size 640x480 with 2 Axes>"
      ]
     },
     "metadata": {},
     "output_type": "display_data"
    }
   ],
   "source": [
    "corr = data.iloc[:,:-1].corr(method=\"pearson\")\n",
    "cmap = sns.diverging_palette(250,354,80,60,center=\"dark\",as_cmap=True)\n",
    "sns.heatmap(corr,vmax=1,vmin=5, cmap=cmap, square = True, linewidth=2)"
   ]
  },
  {
   "cell_type": "markdown",
   "id": "43e5106f",
   "metadata": {},
   "source": [
    "This shows that all features are independent to each other"
   ]
  },
  {
   "cell_type": "code",
   "execution_count": 4,
   "id": "a0880d99",
   "metadata": {},
   "outputs": [
    {
     "data": {
      "text/plain": [
       "<Axes: xlabel='heart_disease', ylabel='Count'>"
      ]
     },
     "execution_count": 4,
     "metadata": {},
     "output_type": "execute_result"
    },
    {
     "data": {
      "image/png": "[encoded data removed]",
      "text/plain": [
       "<Figure size 1800x600 with 3 Axes>"
      ]
     },
     "metadata": {},
     "output_type": "display_data"
    }
   ],
   "source": [
    "fig, axes = plt.subplots(1,3, figsize=(18,6), sharey=True)\n",
    "sns.histplot(data, ax=axes[0], x=\"age\", kde=True, color=\"r\")\n",
    "sns.histplot(data, ax=axes[1], x=\"hypertension\", kde=True, color=\"r\")\n",
    "sns.histplot(data, ax=axes[2], x=\"heart_disease\", kde=True, color=\"r\")"
   ]
  },
  {
   "cell_type": "code",
   "execution_count": 5,
   "id": "125201f9",
   "metadata": {},
   "outputs": [
    {
     "data": {
      "text/plain": [
       "<Axes: xlabel='blood_glucose_level', ylabel='Count'>"
      ]
     },
     "execution_count": 5,
     "metadata": {},
     "output_type": "execute_result"
    },
    {
     "data": {
      "image/png": "[encoded data removed]",
      "text/plain": [
       "<Figure size 1800x600 with 4 Axes>"
      ]
     },
     "metadata": {},
     "output_type": "display_data"
    }
   ],
   "source": [
    "fig, axes = plt.subplots(1,4, figsize=(18,6), sharey=True)\n",
    "sns.histplot(data, ax=axes[0], x=\"smoking_history\", kde=True, color=\"r\")\n",
    "sns.histplot(data, ax=axes[1], x=\"bmi\", kde=True, color=\"r\")\n",
    "sns.histplot(data, ax=axes[2], x=\"HbA1c_level\", kde=True, color=\"r\")\n",
    "sns.histplot(data, ax=axes[3], x=\"blood_glucose_level\", kde=True, color=\"r\")"
   ]
  },
  {
   "cell_type": "markdown",
   "id": "3e82172d",
   "metadata": {},
   "source": [
    "Not normally distributed"
   ]
  },
  {
   "cell_type": "markdown",
   "id": "a6f52657",
   "metadata": {},
   "source": [
    "# Using the Defenition of Naive Bayes from the Course Pack"
   ]
  },
  {
   "cell_type": "markdown",
   "id": "fc2fb302",
   "metadata": {},
   "source": [
    "It is important to take note of the following characteristics of the features as it would help us determine the classifiers"
   ]
  },
  {
   "cell_type": "markdown",
   "id": "79873a78",
   "metadata": {},
   "source": [
    "According to the World Health Organization (2011), the cut-off point for diagnosing Hb1Ac is 6.5% as anything lower than 6.5% would give more false results. Therefore, anything lower than 6.5 would be \"non-diabetic\" and anything above would be \"diabetic.\" However, it is important to consider than some recent sources (MedicinePlus, 2022) cite the 5.5 - 6.5 area as the \"pre-diabetic\" stage. This would be important once we fine tune the algorithm.\n",
    "\n",
    "https://medlineplus.gov/lab-tests/hemoglobin-a1c-hba1c-test/\n",
    "\n",
    "https://www.ncbi.nlm.nih.gov/books/NBK304271/"
   ]
  },
  {
   "cell_type": "markdown",
   "id": "e3dbdead",
   "metadata": {},
   "source": [
    "According to NHBLI (n.d.) and Paul Darube (2022), a person would have a significant risk of developing diabetes if their BMI is above 30. In NHBLI's presentation, 30-40 represents a \"moderate risk\" of diabetes while also have a relatively large amounts of deaths due to said diabetes. In their presentation, 25 below would have \"no risk\" while 25-30 poses \"low risk.\" This would be important once we can fine tune the algorithm.\n",
    "\n",
    "https://www.healthifyme.com/blog/bmi-type-2-diabetes/\n",
    "\n",
    "https://www.nhlbi.nih.gov/health/educational/wecan/portion/documents/BACKGROUND4.pdf"
   ]
  },
  {
   "cell_type": "markdown",
   "id": "8d09f9de",
   "metadata": {},
   "source": [
    "Though that the dataset does not specify what type of test the diabetes would be, we can assume that it is under random testing. In random testing for diabetes, a result of 200 milligrams per deciliter (mg/dL) would suggest diabetes (Mayo Clinic, n.d.). Thus anything lower would mean non-diabetes.\n",
    "\n",
    "https://www.mayoclinic.org/diseases-conditions/diabetes/diagnosis-treatment/drc-20371451\n",
    "\n",
    "additional information\n",
    "\n",
    "https://www.cdc.gov/diabetes/basics/getting-tested.html\n",
    "\n",
    "https://my.clevelandclinic.org/health/diagnostics/12363-blood-glucose-test"
   ]
  },
  {
   "cell_type": "markdown",
   "id": "d2c777db",
   "metadata": {},
   "source": [
    "According to the National Institute of Diabetes and Digestive and Kidney Diseases (2017), people ages 45 and above have a significant risk of developing diabetes. Therefore, it may be important to take that Dansinger (2022) and the Centers for Disease Control and Prevention (2023) state that the disease is more likely occurring in children and teens, and even to young adults. Therefore, it may be imporant to fine tune the algorithm such that young adults and children can be observed.\n",
    "\n",
    "https://www.niddk.nih.gov/health-information/diabetes/overview/what-is-diabetes/type-2-diabetes\n",
    "\n",
    "https://www.webmd.com/diabetes/diabetes-link-age\n",
    "\n",
    "https://www.cdc.gov/diabetes/basics/type2.html"
   ]
  },
  {
   "cell_type": "markdown",
   "id": "e0e59f2f",
   "metadata": {},
   "source": [
    "# Creating the Tables"
   ]
  },
  {
   "cell_type": "markdown",
   "id": "0398f274",
   "metadata": {},
   "source": [
    "## Model Version 1 (without the fine tuning assumptions)"
   ]
  },
  {
   "cell_type": "markdown",
   "id": "56a72986",
   "metadata": {},
   "source": [
    "### For Blood Glucose Levels"
   ]
  },
  {
   "cell_type": "code",
   "execution_count": 6,
   "id": "2e5d1ca1",
   "metadata": {},
   "outputs": [
    {
     "name": "stdout",
     "output_type": "stream",
     "text": [
      "[52797, 3822] [4341, 3224]\n"
     ]
    }
   ],
   "source": [
    "col_names = [\"Yes\",\"No\",\"P(Yes)\",\"P(No)\"]\n",
    "\n",
    "# Remember that a value of 200 and above would result in a favorable diabetic reading\n",
    "\n",
    "# when index is 0 -> non-diabetic\n",
    "# when index is 1 -> diabetic\n",
    "\n",
    "row_names = [\"Non-diabetic\",\"Diabetic\"]\n",
    "values_nd = [0,0]\n",
    "values_d = [0,0]\n",
    "\n",
    "for index, row in data.iterrows():\n",
    "    # Access row values using column names\n",
    "    bool_diabetes = row['diabetes']\n",
    "    glucose_level = row['blood_glucose_level']\n",
    "    i = 0\n",
    "    \n",
    "    if glucose_level < 200:\n",
    "        if bool_diabetes:\n",
    "            i = 1\n",
    "        values_nd[i] += 1\n",
    "    else:\n",
    "        if bool_diabetes:\n",
    "            i = 1\n",
    "        values_d[i] += 1\n",
    "        \n",
    "print(values_nd,values_d)\n",
    "    "
   ]
  },
  {
   "cell_type": "code",
   "execution_count": 7,
   "id": "345e5ead",
   "metadata": {},
   "outputs": [
    {
     "name": "stdout",
     "output_type": "stream",
     "text": [
      "[[0.9240260422135882, 0.5424354243542435], [0.07597395778641185, 0.4575645756457565]]\n"
     ]
    },
    {
     "data": {
      "text/html": [
       "<div>\n",
       "<style scoped>\n",
       "    .dataframe tbody tr th:only-of-type {\n",
       "        vertical-align: middle;\n",
       "    }\n",
       "\n",
       "    .dataframe tbody tr th {\n",
       "        vertical-align: top;\n",
       "    }\n",
       "\n",
       "    .dataframe thead th {\n",
       "        text-align: right;\n",
       "    }\n",
       "</style>\n",
       "<table border=\"1\" class=\"dataframe\">\n",
       "  <thead>\n",
       "    <tr style=\"text-align: right;\">\n",
       "      <th></th>\n",
       "      <th>Row</th>\n",
       "      <th>Yes</th>\n",
       "      <th>No</th>\n",
       "      <th>P(Yes)</th>\n",
       "      <th>P(No)</th>\n",
       "    </tr>\n",
       "  </thead>\n",
       "  <tbody>\n",
       "    <tr>\n",
       "      <th>0</th>\n",
       "      <td>Low Risk</td>\n",
       "      <td>3822</td>\n",
       "      <td>52797</td>\n",
       "      <td>0.542435</td>\n",
       "      <td>0.924026</td>\n",
       "    </tr>\n",
       "    <tr>\n",
       "      <th>1</th>\n",
       "      <td>High Risk</td>\n",
       "      <td>3224</td>\n",
       "      <td>4341</td>\n",
       "      <td>0.457565</td>\n",
       "      <td>0.075974</td>\n",
       "    </tr>\n",
       "    <tr>\n",
       "      <th>2</th>\n",
       "      <td>Total</td>\n",
       "      <td>7046</td>\n",
       "      <td>57138</td>\n",
       "      <td></td>\n",
       "      <td></td>\n",
       "    </tr>\n",
       "  </tbody>\n",
       "</table>\n",
       "</div>"
      ],
      "text/plain": [
       "         Row   Yes     No    P(Yes)     P(No)\n",
       "0   Low Risk  3822  52797  0.542435  0.924026\n",
       "1  High Risk  3224   4341  0.457565  0.075974\n",
       "2      Total  7046  57138                    "
      ]
     },
     "execution_count": 7,
     "metadata": {},
     "output_type": "execute_result"
    }
   ],
   "source": [
    "total_yes = values_nd[1]+values_d[1]\n",
    "total_no = values_nd[0]+values_d[0]\n",
    "\n",
    "classifiers['blood_glucose_level'] = [[values_nd[0]/total_no,values_nd[1]/total_yes],[values_d[0]/total_no,values_d[1]/total_yes]]\n",
    "\n",
    "print(classifiers['blood_glucose_level'])\n",
    "data_table = {\"Row\": [\"Low Risk\",\"High Risk\",\"Total\"],\n",
    "              \"Yes\": [values_nd[1],values_d[1],values_nd[1]+values_d[1]],\n",
    "              \"No\":  [values_nd[0],values_d[0],values_nd[0]+values_d[0]],\n",
    "              \"P(Yes)\" : [values_nd[1]/(values_nd[1]+values_d[1]),values_d[1]/(values_nd[1]+values_d[1]),\"\"],\n",
    "              \"P(No)\" : [values_nd[0]/(values_nd[0]+values_d[0]),values_d[0]/(values_nd[0]+values_d[0]),\"\"]}\n",
    "\n",
    "df = pd.DataFrame(data_table)\n",
    "df.head()"
   ]
  },
  {
   "cell_type": "markdown",
   "id": "bb5c77ab",
   "metadata": {},
   "source": [
    "### For hB1aC Levels"
   ]
  },
  {
   "cell_type": "code",
   "execution_count": 8,
   "id": "8a9e6918",
   "metadata": {},
   "outputs": [
    {
     "name": "stdout",
     "output_type": "stream",
     "text": [
      "[47485, 2757] [9653, 4289]\n"
     ]
    },
    {
     "data": {
      "text/html": [
       "<div>\n",
       "<style scoped>\n",
       "    .dataframe tbody tr th:only-of-type {\n",
       "        vertical-align: middle;\n",
       "    }\n",
       "\n",
       "    .dataframe tbody tr th {\n",
       "        vertical-align: top;\n",
       "    }\n",
       "\n",
       "    .dataframe thead th {\n",
       "        text-align: right;\n",
       "    }\n",
       "</style>\n",
       "<table border=\"1\" class=\"dataframe\">\n",
       "  <thead>\n",
       "    <tr style=\"text-align: right;\">\n",
       "      <th></th>\n",
       "      <th>Row</th>\n",
       "      <th>Yes</th>\n",
       "      <th>No</th>\n",
       "    </tr>\n",
       "  </thead>\n",
       "  <tbody>\n",
       "    <tr>\n",
       "      <th>0</th>\n",
       "      <td>Low Risk</td>\n",
       "      <td>2757</td>\n",
       "      <td>47485</td>\n",
       "    </tr>\n",
       "    <tr>\n",
       "      <th>1</th>\n",
       "      <td>High Risk</td>\n",
       "      <td>4289</td>\n",
       "      <td>9653</td>\n",
       "    </tr>\n",
       "  </tbody>\n",
       "</table>\n",
       "</div>"
      ],
      "text/plain": [
       "         Row   Yes     No\n",
       "0   Low Risk  2757  47485\n",
       "1  High Risk  4289   9653"
      ]
     },
     "execution_count": 8,
     "metadata": {},
     "output_type": "execute_result"
    }
   ],
   "source": [
    "# Remember that a value of 6.5 and above would result in a favorable diabetic reading\n",
    "\n",
    "# when index is 0 -> non-diabetic\n",
    "# when index is 1 -> diabetic\n",
    "\n",
    "values_lowRisk = [0,0]\n",
    "values_highRisk = [0,0]\n",
    "\n",
    "for index, row in data.iterrows():\n",
    "    # Access row values using column names\n",
    "    bool_diabetes = row['diabetes']\n",
    "    hb1ac_level = row['HbA1c_level']\n",
    "    i = 0\n",
    "    \n",
    "    if hb1ac_level < 6.5:\n",
    "        if bool_diabetes:\n",
    "            i = 1\n",
    "        values_lowRisk[i] += 1\n",
    "    else:\n",
    "        if bool_diabetes:\n",
    "            i = 1\n",
    "        values_highRisk[i] += 1\n",
    "        \n",
    "print(values_lowRisk,values_highRisk)\n",
    "data_table = {\"Row\": [\"Low Risk\",\"High Risk\"],\n",
    "              \"Yes\": [values_lowRisk[1],values_highRisk[1]],\n",
    "             \"No\": [values_lowRisk[0],values_highRisk[0]]}\n",
    "\n",
    "df = pd.DataFrame(data_table)\n",
    "df.head()\n",
    "    "
   ]
  },
  {
   "cell_type": "code",
   "execution_count": 9,
   "id": "b6676034",
   "metadata": {},
   "outputs": [
    {
     "name": "stdout",
     "output_type": "stream",
     "text": [
      "[[0.831058139941895, 0.39128583593528243], [0.16894186005810494, 0.6087141640647176]]\n"
     ]
    },
    {
     "data": {
      "text/html": [
       "<div>\n",
       "<style scoped>\n",
       "    .dataframe tbody tr th:only-of-type {\n",
       "        vertical-align: middle;\n",
       "    }\n",
       "\n",
       "    .dataframe tbody tr th {\n",
       "        vertical-align: top;\n",
       "    }\n",
       "\n",
       "    .dataframe thead th {\n",
       "        text-align: right;\n",
       "    }\n",
       "</style>\n",
       "<table border=\"1\" class=\"dataframe\">\n",
       "  <thead>\n",
       "    <tr style=\"text-align: right;\">\n",
       "      <th></th>\n",
       "      <th>Row</th>\n",
       "      <th>Yes</th>\n",
       "      <th>No</th>\n",
       "      <th>P(Yes)</th>\n",
       "      <th>P(No)</th>\n",
       "    </tr>\n",
       "  </thead>\n",
       "  <tbody>\n",
       "    <tr>\n",
       "      <th>0</th>\n",
       "      <td>Low Risk</td>\n",
       "      <td>2757</td>\n",
       "      <td>47485</td>\n",
       "      <td>0.391286</td>\n",
       "      <td>0.831058</td>\n",
       "    </tr>\n",
       "    <tr>\n",
       "      <th>1</th>\n",
       "      <td>High Risk</td>\n",
       "      <td>4289</td>\n",
       "      <td>9653</td>\n",
       "      <td>0.608714</td>\n",
       "      <td>0.168942</td>\n",
       "    </tr>\n",
       "    <tr>\n",
       "      <th>2</th>\n",
       "      <td>Total</td>\n",
       "      <td>7046</td>\n",
       "      <td>57138</td>\n",
       "      <td></td>\n",
       "      <td></td>\n",
       "    </tr>\n",
       "  </tbody>\n",
       "</table>\n",
       "</div>"
      ],
      "text/plain": [
       "         Row   Yes     No    P(Yes)     P(No)\n",
       "0   Low Risk  2757  47485  0.391286  0.831058\n",
       "1  High Risk  4289   9653  0.608714  0.168942\n",
       "2      Total  7046  57138                    "
      ]
     },
     "execution_count": 9,
     "metadata": {},
     "output_type": "execute_result"
    }
   ],
   "source": [
    "total_yes = values_lowRisk[1]+values_highRisk[1]\n",
    "total_no = values_lowRisk[0]+values_highRisk[0]\n",
    "\n",
    "classifiers['HbA1c_level'] = [[values_lowRisk[0]/total_no,values_lowRisk[1]/total_yes],[values_highRisk[0]/total_no,values_highRisk[1]/total_yes]]\n",
    "print(classifiers['HbA1c_level'])\n",
    "\n",
    "data_table = {\"Row\": [\"Low Risk\",\"High Risk\",\"Total\"],\n",
    "              \"Yes\": [values_lowRisk[1],values_highRisk[1],values_lowRisk[1]+values_highRisk[1]],\n",
    "              \"No\":  [values_lowRisk[0],values_highRisk[0],values_lowRisk[0]+values_highRisk[0]],\n",
    "              \"P(Yes)\" : [values_lowRisk[1]/(values_lowRisk[1]+values_highRisk[1]),values_highRisk[1]/(values_lowRisk[1]+values_highRisk[1]),\"\"],\n",
    "              \"P(No)\" : [values_lowRisk[0]/(values_lowRisk[0]+values_highRisk[0]),values_highRisk[0]/(values_lowRisk[0]+values_highRisk[0]),\"\"]}\n",
    "\n",
    "df = pd.DataFrame(data_table)\n",
    "df.head()"
   ]
  },
  {
   "cell_type": "markdown",
   "id": "3c500e67",
   "metadata": {},
   "source": [
    "### For BMI Levels"
   ]
  },
  {
   "cell_type": "code",
   "execution_count": 10,
   "id": "21151690",
   "metadata": {},
   "outputs": [
    {
     "name": "stdout",
     "output_type": "stream",
     "text": [
      "[41856, 3366] [15282, 3680]\n"
     ]
    },
    {
     "data": {
      "text/html": [
       "<div>\n",
       "<style scoped>\n",
       "    .dataframe tbody tr th:only-of-type {\n",
       "        vertical-align: middle;\n",
       "    }\n",
       "\n",
       "    .dataframe tbody tr th {\n",
       "        vertical-align: top;\n",
       "    }\n",
       "\n",
       "    .dataframe thead th {\n",
       "        text-align: right;\n",
       "    }\n",
       "</style>\n",
       "<table border=\"1\" class=\"dataframe\">\n",
       "  <thead>\n",
       "    <tr style=\"text-align: right;\">\n",
       "      <th></th>\n",
       "      <th>Row</th>\n",
       "      <th>Yes</th>\n",
       "      <th>No</th>\n",
       "    </tr>\n",
       "  </thead>\n",
       "  <tbody>\n",
       "    <tr>\n",
       "      <th>0</th>\n",
       "      <td>Low Risk</td>\n",
       "      <td>3366</td>\n",
       "      <td>41856</td>\n",
       "    </tr>\n",
       "    <tr>\n",
       "      <th>1</th>\n",
       "      <td>High Risk</td>\n",
       "      <td>3680</td>\n",
       "      <td>15282</td>\n",
       "    </tr>\n",
       "  </tbody>\n",
       "</table>\n",
       "</div>"
      ],
      "text/plain": [
       "         Row   Yes     No\n",
       "0   Low Risk  3366  41856\n",
       "1  High Risk  3680  15282"
      ]
     },
     "execution_count": 10,
     "metadata": {},
     "output_type": "execute_result"
    }
   ],
   "source": [
    "# Remember that a value of 30 and above would result in a favorable diabetic reading\n",
    "\n",
    "# when index is 0 -> non-diabetic\n",
    "# when index is 1 -> diabetic\n",
    "\n",
    "values_lowRisk = [0,0]\n",
    "values_highRisk = [0,0]\n",
    "\n",
    "for index, row in data.iterrows():\n",
    "    # Access row values using column names\n",
    "    bool_diabetes = row['diabetes']\n",
    "    bmi_level = row['bmi']\n",
    "    i = 0\n",
    "    \n",
    "    if bmi_level < 30:\n",
    "        if bool_diabetes:\n",
    "            i = 1\n",
    "        values_lowRisk[i] += 1\n",
    "    else:\n",
    "        if bool_diabetes:\n",
    "            i = 1\n",
    "        values_highRisk[i] += 1\n",
    "        \n",
    "print(values_lowRisk,values_highRisk)\n",
    "data_table = {\"Row\": [\"Low Risk\",\"High Risk\"],\n",
    "              \"Yes\": [values_lowRisk[1],values_highRisk[1]],\n",
    "             \"No\": [values_lowRisk[0],values_highRisk[0]]}\n",
    "\n",
    "df = pd.DataFrame(data_table)\n",
    "df.head()\n",
    "    "
   ]
  },
  {
   "cell_type": "code",
   "execution_count": 11,
   "id": "80181962",
   "metadata": {},
   "outputs": [
    {
     "name": "stdout",
     "output_type": "stream",
     "text": [
      "[[0.7325422660926179, 0.47771785410161793], [0.26745773390738214, 0.5222821458983821]]\n"
     ]
    },
    {
     "data": {
      "text/html": [
       "<div>\n",
       "<style scoped>\n",
       "    .dataframe tbody tr th:only-of-type {\n",
       "        vertical-align: middle;\n",
       "    }\n",
       "\n",
       "    .dataframe tbody tr th {\n",
       "        vertical-align: top;\n",
       "    }\n",
       "\n",
       "    .dataframe thead th {\n",
       "        text-align: right;\n",
       "    }\n",
       "</style>\n",
       "<table border=\"1\" class=\"dataframe\">\n",
       "  <thead>\n",
       "    <tr style=\"text-align: right;\">\n",
       "      <th></th>\n",
       "      <th>Row</th>\n",
       "      <th>Yes</th>\n",
       "      <th>No</th>\n",
       "      <th>P(Yes)</th>\n",
       "      <th>P(No)</th>\n",
       "    </tr>\n",
       "  </thead>\n",
       "  <tbody>\n",
       "    <tr>\n",
       "      <th>0</th>\n",
       "      <td>Low Risk</td>\n",
       "      <td>3366</td>\n",
       "      <td>41856</td>\n",
       "      <td>0.477718</td>\n",
       "      <td>0.732542</td>\n",
       "    </tr>\n",
       "    <tr>\n",
       "      <th>1</th>\n",
       "      <td>High Risk</td>\n",
       "      <td>3680</td>\n",
       "      <td>15282</td>\n",
       "      <td>0.522282</td>\n",
       "      <td>0.267458</td>\n",
       "    </tr>\n",
       "    <tr>\n",
       "      <th>2</th>\n",
       "      <td>Total</td>\n",
       "      <td>7046</td>\n",
       "      <td>57138</td>\n",
       "      <td></td>\n",
       "      <td></td>\n",
       "    </tr>\n",
       "  </tbody>\n",
       "</table>\n",
       "</div>"
      ],
      "text/plain": [
       "         Row   Yes     No    P(Yes)     P(No)\n",
       "0   Low Risk  3366  41856  0.477718  0.732542\n",
       "1  High Risk  3680  15282  0.522282  0.267458\n",
       "2      Total  7046  57138                    "
      ]
     },
     "execution_count": 11,
     "metadata": {},
     "output_type": "execute_result"
    }
   ],
   "source": [
    "total_yes = values_lowRisk[1]+values_highRisk[1]\n",
    "total_no = values_lowRisk[0]+values_highRisk[0]\n",
    "\n",
    "classifiers['bmi'] = [[values_lowRisk[0]/total_no,values_lowRisk[1]/total_yes],[values_highRisk[0]/total_no,values_highRisk[1]/total_yes]]\n",
    "print(classifiers['bmi'])\n",
    "\n",
    "data_table = {\"Row\": [\"Low Risk\",\"High Risk\",\"Total\"],\n",
    "              \"Yes\": [values_lowRisk[1],values_highRisk[1],values_lowRisk[1]+values_highRisk[1]],\n",
    "              \"No\":  [values_lowRisk[0],values_highRisk[0],values_lowRisk[0]+values_highRisk[0]],\n",
    "              \"P(Yes)\" : [values_lowRisk[1]/(values_lowRisk[1]+values_highRisk[1]),values_highRisk[1]/(values_lowRisk[1]+values_highRisk[1]),\"\"],\n",
    "              \"P(No)\" : [values_lowRisk[0]/(values_lowRisk[0]+values_highRisk[0]),values_highRisk[0]/(values_lowRisk[0]+values_highRisk[0]),\"\"]}\n",
    "\n",
    "df = pd.DataFrame(data_table)\n",
    "df.head()"
   ]
  },
  {
   "cell_type": "markdown",
   "id": "d56dccf1",
   "metadata": {},
   "source": [
    "### For Smoking Levels"
   ]
  },
  {
   "cell_type": "code",
   "execution_count": 12,
   "id": "8bdcb51e",
   "metadata": {},
   "outputs": [
    {
     "data": {
      "text/html": [
       "<div>\n",
       "<style scoped>\n",
       "    .dataframe tbody tr th:only-of-type {\n",
       "        vertical-align: middle;\n",
       "    }\n",
       "\n",
       "    .dataframe tbody tr th {\n",
       "        vertical-align: top;\n",
       "    }\n",
       "\n",
       "    .dataframe thead th {\n",
       "        text-align: right;\n",
       "    }\n",
       "</style>\n",
       "<table border=\"1\" class=\"dataframe\">\n",
       "  <thead>\n",
       "    <tr style=\"text-align: right;\">\n",
       "      <th></th>\n",
       "      <th>Row</th>\n",
       "      <th>Yes</th>\n",
       "      <th>No</th>\n",
       "    </tr>\n",
       "  </thead>\n",
       "  <tbody>\n",
       "    <tr>\n",
       "      <th>0</th>\n",
       "      <td>Never</td>\n",
       "      <td>3346</td>\n",
       "      <td>31749</td>\n",
       "    </tr>\n",
       "    <tr>\n",
       "      <th>1</th>\n",
       "      <td>Not Current</td>\n",
       "      <td>690</td>\n",
       "      <td>5757</td>\n",
       "    </tr>\n",
       "    <tr>\n",
       "      <th>2</th>\n",
       "      <td>Former</td>\n",
       "      <td>1590</td>\n",
       "      <td>7762</td>\n",
       "    </tr>\n",
       "    <tr>\n",
       "      <th>3</th>\n",
       "      <td>Current</td>\n",
       "      <td>948</td>\n",
       "      <td>8338</td>\n",
       "    </tr>\n",
       "    <tr>\n",
       "      <th>4</th>\n",
       "      <td>Ever</td>\n",
       "      <td>472</td>\n",
       "      <td>3532</td>\n",
       "    </tr>\n",
       "  </tbody>\n",
       "</table>\n",
       "</div>"
      ],
      "text/plain": [
       "           Row   Yes     No\n",
       "0        Never  3346  31749\n",
       "1  Not Current   690   5757\n",
       "2       Former  1590   7762\n",
       "3      Current   948   8338\n",
       "4         Ever   472   3532"
      ]
     },
     "execution_count": 12,
     "metadata": {},
     "output_type": "execute_result"
    }
   ],
   "source": [
    "# Smoking has Five (5) levels of hell according to the specifications of the one who made the dataset\n",
    "# 0 - Never\n",
    "# 1 - Not Current\n",
    "# 2 - Former\n",
    "# 3 - Current\n",
    "# 4 - Ever\n",
    "\n",
    "# when index is 0 -> non-diabetic\n",
    "# when index is 1 -> diabetic\n",
    "\n",
    "values_never = [0,0]\n",
    "values_notCurrent = [0,0]\n",
    "values_former = [0,0]\n",
    "values_current = [0,0]\n",
    "values_ever = [0,0]\n",
    "\n",
    "for index, row in data.iterrows():\n",
    "    # Access row values using column names\n",
    "    bool_diabetes = row['diabetes']\n",
    "    smoking_level = row['smoking_history']\n",
    "    i = 0\n",
    "    \n",
    "    if smoking_level == 0:\n",
    "        if bool_diabetes:\n",
    "            i = 1\n",
    "        values_never[i] += 1\n",
    "    elif smoking_level == 1:\n",
    "        if bool_diabetes:\n",
    "            i = 1\n",
    "        values_notCurrent[i] += 1\n",
    "    elif smoking_level == 2:\n",
    "        if bool_diabetes:\n",
    "            i = 1\n",
    "        values_former[i] += 1\n",
    "    elif smoking_level == 3:\n",
    "        if bool_diabetes:\n",
    "            i = 1\n",
    "        values_current[i] += 1\n",
    "    elif smoking_level == 4:\n",
    "        if bool_diabetes:\n",
    "            i = 1\n",
    "        values_ever[i] += 1\n",
    "        \n",
    "data_table = {\"Row\": [\"Never\",\"Not Current\",\"Former\",\"Current\",\"Ever\"],\n",
    "              \"Yes\": [values_never[1],values_notCurrent[1],values_former[1],values_current[1],values_ever[1]],\n",
    "             \"No\": [values_never[0],values_notCurrent[0],values_former[0],values_current[0],values_ever[0]]}\n",
    "\n",
    "df = pd.DataFrame(data_table)\n",
    "df.head()\n",
    "    "
   ]
  },
  {
   "cell_type": "code",
   "execution_count": 13,
   "id": "88d0625b",
   "metadata": {},
   "outputs": [
    {
     "name": "stdout",
     "output_type": "stream",
     "text": [
      "[[0.5556547306521055, 0.47487936417825716], [0.10075606426546256, 0.09792790235594663], [0.13584654695649132, 0.22565994890718138], [0.14592740382932548, 0.1345444223673006], [0.06181525429661521, 0.06698836219131422]]\n"
     ]
    },
    {
     "data": {
      "text/html": [
       "<div>\n",
       "<style scoped>\n",
       "    .dataframe tbody tr th:only-of-type {\n",
       "        vertical-align: middle;\n",
       "    }\n",
       "\n",
       "    .dataframe tbody tr th {\n",
       "        vertical-align: top;\n",
       "    }\n",
       "\n",
       "    .dataframe thead th {\n",
       "        text-align: right;\n",
       "    }\n",
       "</style>\n",
       "<table border=\"1\" class=\"dataframe\">\n",
       "  <thead>\n",
       "    <tr style=\"text-align: right;\">\n",
       "      <th></th>\n",
       "      <th>Row</th>\n",
       "      <th>Yes</th>\n",
       "      <th>No</th>\n",
       "      <th>P(Yes)</th>\n",
       "      <th>P(No)</th>\n",
       "    </tr>\n",
       "  </thead>\n",
       "  <tbody>\n",
       "    <tr>\n",
       "      <th>0</th>\n",
       "      <td>Never</td>\n",
       "      <td>3346</td>\n",
       "      <td>31749</td>\n",
       "      <td>0.474879</td>\n",
       "      <td>0.555655</td>\n",
       "    </tr>\n",
       "    <tr>\n",
       "      <th>1</th>\n",
       "      <td>Not Current</td>\n",
       "      <td>690</td>\n",
       "      <td>5757</td>\n",
       "      <td>0.097928</td>\n",
       "      <td>0.100756</td>\n",
       "    </tr>\n",
       "    <tr>\n",
       "      <th>2</th>\n",
       "      <td>Former</td>\n",
       "      <td>1590</td>\n",
       "      <td>7762</td>\n",
       "      <td>0.22566</td>\n",
       "      <td>0.135847</td>\n",
       "    </tr>\n",
       "    <tr>\n",
       "      <th>3</th>\n",
       "      <td>Current</td>\n",
       "      <td>948</td>\n",
       "      <td>8338</td>\n",
       "      <td>0.134544</td>\n",
       "      <td>0.145927</td>\n",
       "    </tr>\n",
       "    <tr>\n",
       "      <th>4</th>\n",
       "      <td>Ever</td>\n",
       "      <td>472</td>\n",
       "      <td>3532</td>\n",
       "      <td>0.066988</td>\n",
       "      <td>0.061815</td>\n",
       "    </tr>\n",
       "    <tr>\n",
       "      <th>5</th>\n",
       "      <td>Total</td>\n",
       "      <td>7046</td>\n",
       "      <td>57138</td>\n",
       "      <td></td>\n",
       "      <td></td>\n",
       "    </tr>\n",
       "  </tbody>\n",
       "</table>\n",
       "</div>"
      ],
      "text/plain": [
       "           Row   Yes     No    P(Yes)     P(No)\n",
       "0        Never  3346  31749  0.474879  0.555655\n",
       "1  Not Current   690   5757  0.097928  0.100756\n",
       "2       Former  1590   7762   0.22566  0.135847\n",
       "3      Current   948   8338  0.134544  0.145927\n",
       "4         Ever   472   3532  0.066988  0.061815\n",
       "5        Total  7046  57138                    "
      ]
     },
     "execution_count": 13,
     "metadata": {},
     "output_type": "execute_result"
    }
   ],
   "source": [
    "total_yes = values_never[1] + values_notCurrent[1] + values_former[1] + values_current[1] + values_ever[1]\n",
    "total_no = values_never[0] + values_notCurrent[0] + values_former[0] + values_current[0] + values_ever[0]\n",
    "\n",
    "classifiers['smoking_history'] = [[values_never[0]/total_no,values_never[1]/total_yes],\n",
    "                                  [values_notCurrent[0]/total_no,values_notCurrent[1]/total_yes],\n",
    "                                  [values_former[0]/total_no,values_former[1]/total_yes],\n",
    "                                  [values_current[0]/total_no,values_current[1]/total_yes],\n",
    "                                  [values_ever[0]/total_no,values_ever[1]/total_yes]]\n",
    "print(classifiers['smoking_history'])\n",
    "\n",
    "data_table = {\"Row\": [\"Never\",\"Not Current\",\"Former\",\"Current\",\"Ever\",\"Total\"],\n",
    "              \"Yes\": [values_never[1],values_notCurrent[1],values_former[1],values_current[1],values_ever[1],total_yes],\n",
    "             \"No\": [values_never[0],values_notCurrent[0],values_former[0],values_current[0],values_ever[0],total_no],\n",
    "              \"P(Yes)\" : [values_never[1]/(total_yes),values_notCurrent[1]/(total_yes),values_former[1]/(total_yes),values_current[1]/(total_yes),values_ever[1]/(total_yes),\"\"],\n",
    "              \"P(No)\" : [values_never[0]/(total_no),values_notCurrent[0]/(total_no),values_former[0]/(total_no),values_current[0]/(total_no),values_ever[0]/(total_no),\"\"]}\n",
    "\n",
    "df = pd.DataFrame(data_table)\n",
    "df.head(10)"
   ]
  },
  {
   "cell_type": "markdown",
   "id": "1dfde2e1",
   "metadata": {},
   "source": [
    "### For Heart Disease Levels"
   ]
  },
  {
   "cell_type": "code",
   "execution_count": 14,
   "id": "5a3108d6",
   "metadata": {},
   "outputs": [
    {
     "name": "stdout",
     "output_type": "stream",
     "text": [
      "[55171, 5994] [1967, 1052]\n"
     ]
    },
    {
     "data": {
      "text/html": [
       "<div>\n",
       "<style scoped>\n",
       "    .dataframe tbody tr th:only-of-type {\n",
       "        vertical-align: middle;\n",
       "    }\n",
       "\n",
       "    .dataframe tbody tr th {\n",
       "        vertical-align: top;\n",
       "    }\n",
       "\n",
       "    .dataframe thead th {\n",
       "        text-align: right;\n",
       "    }\n",
       "</style>\n",
       "<table border=\"1\" class=\"dataframe\">\n",
       "  <thead>\n",
       "    <tr style=\"text-align: right;\">\n",
       "      <th></th>\n",
       "      <th>Row</th>\n",
       "      <th>Yes</th>\n",
       "      <th>No</th>\n",
       "    </tr>\n",
       "  </thead>\n",
       "  <tbody>\n",
       "    <tr>\n",
       "      <th>0</th>\n",
       "      <td>Low Risk</td>\n",
       "      <td>5994</td>\n",
       "      <td>55171</td>\n",
       "    </tr>\n",
       "    <tr>\n",
       "      <th>1</th>\n",
       "      <td>High Risk</td>\n",
       "      <td>1052</td>\n",
       "      <td>1967</td>\n",
       "    </tr>\n",
       "  </tbody>\n",
       "</table>\n",
       "</div>"
      ],
      "text/plain": [
       "         Row   Yes     No\n",
       "0   Low Risk  5994  55171\n",
       "1  High Risk  1052   1967"
      ]
     },
     "execution_count": 14,
     "metadata": {},
     "output_type": "execute_result"
    }
   ],
   "source": [
    "# A value of 1 means that the person has heart disease\n",
    "\n",
    "# when index is 0 -> non-diabetic\n",
    "# when index is 1 -> diabetic\n",
    "\n",
    "values_lowRisk = [0,0]\n",
    "values_highRisk = [0,0]\n",
    "\n",
    "for index, row in data.iterrows():\n",
    "    # Access row values using column names\n",
    "    bool_diabetes = row['diabetes']\n",
    "    heart_level = row['heart_disease']\n",
    "    i = 0\n",
    "    \n",
    "    if heart_level == 0:\n",
    "        if bool_diabetes:\n",
    "            i = 1\n",
    "        values_lowRisk[i] += 1\n",
    "    else:\n",
    "        if bool_diabetes:\n",
    "            i = 1\n",
    "        values_highRisk[i] += 1\n",
    "        \n",
    "print(values_lowRisk,values_highRisk)\n",
    "data_table = {\"Row\": [\"Low Risk\",\"High Risk\"],\n",
    "              \"Yes\": [values_lowRisk[1],values_highRisk[1]],\n",
    "             \"No\": [values_lowRisk[0],values_highRisk[0]]}\n",
    "\n",
    "df = pd.DataFrame(data_table)\n",
    "df.head()\n",
    "    "
   ]
  },
  {
   "cell_type": "code",
   "execution_count": 15,
   "id": "4479fc24",
   "metadata": {},
   "outputs": [
    {
     "name": "stdout",
     "output_type": "stream",
     "text": [
      "[[0.9655745738387763, 0.8506954300312234], [0.0344254261612237, 0.1493045699687766]]\n"
     ]
    },
    {
     "data": {
      "text/html": [
       "<div>\n",
       "<style scoped>\n",
       "    .dataframe tbody tr th:only-of-type {\n",
       "        vertical-align: middle;\n",
       "    }\n",
       "\n",
       "    .dataframe tbody tr th {\n",
       "        vertical-align: top;\n",
       "    }\n",
       "\n",
       "    .dataframe thead th {\n",
       "        text-align: right;\n",
       "    }\n",
       "</style>\n",
       "<table border=\"1\" class=\"dataframe\">\n",
       "  <thead>\n",
       "    <tr style=\"text-align: right;\">\n",
       "      <th></th>\n",
       "      <th>Row</th>\n",
       "      <th>Yes</th>\n",
       "      <th>No</th>\n",
       "      <th>P(Yes)</th>\n",
       "      <th>P(No)</th>\n",
       "    </tr>\n",
       "  </thead>\n",
       "  <tbody>\n",
       "    <tr>\n",
       "      <th>0</th>\n",
       "      <td>Low Risk</td>\n",
       "      <td>5994</td>\n",
       "      <td>55171</td>\n",
       "      <td>0.850695</td>\n",
       "      <td>0.965575</td>\n",
       "    </tr>\n",
       "    <tr>\n",
       "      <th>1</th>\n",
       "      <td>High Risk</td>\n",
       "      <td>1052</td>\n",
       "      <td>1967</td>\n",
       "      <td>0.149305</td>\n",
       "      <td>0.034425</td>\n",
       "    </tr>\n",
       "    <tr>\n",
       "      <th>2</th>\n",
       "      <td>Total</td>\n",
       "      <td>7046</td>\n",
       "      <td>57138</td>\n",
       "      <td></td>\n",
       "      <td></td>\n",
       "    </tr>\n",
       "  </tbody>\n",
       "</table>\n",
       "</div>"
      ],
      "text/plain": [
       "         Row   Yes     No    P(Yes)     P(No)\n",
       "0   Low Risk  5994  55171  0.850695  0.965575\n",
       "1  High Risk  1052   1967  0.149305  0.034425\n",
       "2      Total  7046  57138                    "
      ]
     },
     "execution_count": 15,
     "metadata": {},
     "output_type": "execute_result"
    }
   ],
   "source": [
    "total_yes = values_lowRisk[1]+values_highRisk[1]\n",
    "total_no = values_lowRisk[0]+values_highRisk[0]\n",
    "\n",
    "classifiers['heart_disease'] = [[values_lowRisk[0]/total_no,values_lowRisk[1]/total_yes],[values_highRisk[0]/total_no,values_highRisk[1]/total_yes]]\n",
    "print(classifiers['heart_disease'])\n",
    "\n",
    "data_table = {\"Row\": [\"Low Risk\",\"High Risk\",\"Total\"],\n",
    "              \"Yes\": [values_lowRisk[1],values_highRisk[1],values_lowRisk[1]+values_highRisk[1]],\n",
    "              \"No\":  [values_lowRisk[0],values_highRisk[0],values_lowRisk[0]+values_highRisk[0]],\n",
    "              \"P(Yes)\" : [values_lowRisk[1]/(values_lowRisk[1]+values_highRisk[1]),values_highRisk[1]/(values_lowRisk[1]+values_highRisk[1]),\"\"],\n",
    "              \"P(No)\" : [values_lowRisk[0]/(values_lowRisk[0]+values_highRisk[0]),values_highRisk[0]/(values_lowRisk[0]+values_highRisk[0]),\"\"]}\n",
    "\n",
    "df = pd.DataFrame(data_table)\n",
    "df.head()"
   ]
  },
  {
   "cell_type": "markdown",
   "id": "e854e7bc",
   "metadata": {},
   "source": [
    "### For Hypertension Levels"
   ]
  },
  {
   "cell_type": "code",
   "execution_count": 16,
   "id": "76275451",
   "metadata": {},
   "outputs": [
    {
     "name": "stdout",
     "output_type": "stream",
     "text": [
      "[52691, 5210] [4447, 1836]\n"
     ]
    },
    {
     "data": {
      "text/html": [
       "<div>\n",
       "<style scoped>\n",
       "    .dataframe tbody tr th:only-of-type {\n",
       "        vertical-align: middle;\n",
       "    }\n",
       "\n",
       "    .dataframe tbody tr th {\n",
       "        vertical-align: top;\n",
       "    }\n",
       "\n",
       "    .dataframe thead th {\n",
       "        text-align: right;\n",
       "    }\n",
       "</style>\n",
       "<table border=\"1\" class=\"dataframe\">\n",
       "  <thead>\n",
       "    <tr style=\"text-align: right;\">\n",
       "      <th></th>\n",
       "      <th>Row</th>\n",
       "      <th>Yes</th>\n",
       "      <th>No</th>\n",
       "    </tr>\n",
       "  </thead>\n",
       "  <tbody>\n",
       "    <tr>\n",
       "      <th>0</th>\n",
       "      <td>Absent</td>\n",
       "      <td>5210</td>\n",
       "      <td>52691</td>\n",
       "    </tr>\n",
       "    <tr>\n",
       "      <th>1</th>\n",
       "      <td>Present</td>\n",
       "      <td>1836</td>\n",
       "      <td>4447</td>\n",
       "    </tr>\n",
       "  </tbody>\n",
       "</table>\n",
       "</div>"
      ],
      "text/plain": [
       "       Row   Yes     No\n",
       "0   Absent  5210  52691\n",
       "1  Present  1836   4447"
      ]
     },
     "execution_count": 16,
     "metadata": {},
     "output_type": "execute_result"
    }
   ],
   "source": [
    "# A value of 1 means that the person has hypertension\n",
    "\n",
    "# when index is 0 -> non-diabetic\n",
    "# when index is 1 -> diabetic\n",
    "\n",
    "values_lowRisk = [0,0]\n",
    "values_highRisk = [0,0]\n",
    "\n",
    "for index, row in data.iterrows():\n",
    "    # Access row values using column names\n",
    "    bool_diabetes = row['diabetes']\n",
    "    hypertension_level = row['hypertension']\n",
    "    i = 0\n",
    "    \n",
    "    if hypertension_level == 0:\n",
    "        if bool_diabetes:\n",
    "            i = 1\n",
    "        values_lowRisk[i] += 1\n",
    "    else:\n",
    "        if bool_diabetes:\n",
    "            i = 1\n",
    "        values_highRisk[i] += 1\n",
    "        \n",
    "print(values_lowRisk,values_highRisk)\n",
    "data_table = {\"Row\": [\"Absent\",\"Present\"],\n",
    "              \"Yes\": [values_lowRisk[1],values_highRisk[1]],\n",
    "             \"No\": [values_lowRisk[0],values_highRisk[0]]}\n",
    "\n",
    "df = pd.DataFrame(data_table)\n",
    "df.head()\n",
    "    "
   ]
  },
  {
   "cell_type": "code",
   "execution_count": 17,
   "id": "d1754607",
   "metadata": {},
   "outputs": [
    {
     "name": "stdout",
     "output_type": "stream",
     "text": [
      "[[0.9221708845251846, 0.7394266250354812], [0.07782911547481536, 0.2605733749645189]]\n"
     ]
    },
    {
     "data": {
      "text/html": [
       "<div>\n",
       "<style scoped>\n",
       "    .dataframe tbody tr th:only-of-type {\n",
       "        vertical-align: middle;\n",
       "    }\n",
       "\n",
       "    .dataframe tbody tr th {\n",
       "        vertical-align: top;\n",
       "    }\n",
       "\n",
       "    .dataframe thead th {\n",
       "        text-align: right;\n",
       "    }\n",
       "</style>\n",
       "<table border=\"1\" class=\"dataframe\">\n",
       "  <thead>\n",
       "    <tr style=\"text-align: right;\">\n",
       "      <th></th>\n",
       "      <th>Row</th>\n",
       "      <th>Yes</th>\n",
       "      <th>No</th>\n",
       "      <th>P(Yes)</th>\n",
       "      <th>P(No)</th>\n",
       "    </tr>\n",
       "  </thead>\n",
       "  <tbody>\n",
       "    <tr>\n",
       "      <th>0</th>\n",
       "      <td>Absent</td>\n",
       "      <td>5210</td>\n",
       "      <td>52691</td>\n",
       "      <td>0.739427</td>\n",
       "      <td>0.922171</td>\n",
       "    </tr>\n",
       "    <tr>\n",
       "      <th>1</th>\n",
       "      <td>Present</td>\n",
       "      <td>1836</td>\n",
       "      <td>4447</td>\n",
       "      <td>0.260573</td>\n",
       "      <td>0.077829</td>\n",
       "    </tr>\n",
       "    <tr>\n",
       "      <th>2</th>\n",
       "      <td>Total</td>\n",
       "      <td>7046</td>\n",
       "      <td>57138</td>\n",
       "      <td></td>\n",
       "      <td></td>\n",
       "    </tr>\n",
       "  </tbody>\n",
       "</table>\n",
       "</div>"
      ],
      "text/plain": [
       "       Row   Yes     No    P(Yes)     P(No)\n",
       "0   Absent  5210  52691  0.739427  0.922171\n",
       "1  Present  1836   4447  0.260573  0.077829\n",
       "2    Total  7046  57138                    "
      ]
     },
     "execution_count": 17,
     "metadata": {},
     "output_type": "execute_result"
    }
   ],
   "source": [
    "total_yes = values_lowRisk[1]+values_highRisk[1]\n",
    "total_no = values_lowRisk[0]+values_highRisk[0]\n",
    "\n",
    "classifiers['hypertension'] = [[values_lowRisk[0]/total_no,values_lowRisk[1]/total_yes],[values_highRisk[0]/total_no,values_highRisk[1]/total_yes]]\n",
    "print(classifiers['hypertension'])\n",
    "\n",
    "data_table = {\"Row\": [\"Absent\",\"Present\",\"Total\"],\n",
    "              \"Yes\": [values_lowRisk[1],values_highRisk[1],values_lowRisk[1]+values_highRisk[1]],\n",
    "              \"No\":  [values_lowRisk[0],values_highRisk[0],values_lowRisk[0]+values_highRisk[0]],\n",
    "              \"P(Yes)\" : [values_lowRisk[1]/(values_lowRisk[1]+values_highRisk[1]),values_highRisk[1]/(values_lowRisk[1]+values_highRisk[1]),\"\"],\n",
    "              \"P(No)\" : [values_lowRisk[0]/(values_lowRisk[0]+values_highRisk[0]),values_highRisk[0]/(values_lowRisk[0]+values_highRisk[0]),\"\"]}\n",
    "\n",
    "df = pd.DataFrame(data_table)\n",
    "df.head()"
   ]
  },
  {
   "cell_type": "markdown",
   "id": "3f568869",
   "metadata": {},
   "source": [
    "### For Gender Levels"
   ]
  },
  {
   "cell_type": "code",
   "execution_count": 18,
   "id": "97c49d9c",
   "metadata": {},
   "outputs": [
    {
     "name": "stdout",
     "output_type": "stream",
     "text": [
      "[35145, 3707] [21993, 3339]\n"
     ]
    },
    {
     "data": {
      "text/html": [
       "<div>\n",
       "<style scoped>\n",
       "    .dataframe tbody tr th:only-of-type {\n",
       "        vertical-align: middle;\n",
       "    }\n",
       "\n",
       "    .dataframe tbody tr th {\n",
       "        vertical-align: top;\n",
       "    }\n",
       "\n",
       "    .dataframe thead th {\n",
       "        text-align: right;\n",
       "    }\n",
       "</style>\n",
       "<table border=\"1\" class=\"dataframe\">\n",
       "  <thead>\n",
       "    <tr style=\"text-align: right;\">\n",
       "      <th></th>\n",
       "      <th>Row</th>\n",
       "      <th>Yes</th>\n",
       "      <th>No</th>\n",
       "    </tr>\n",
       "  </thead>\n",
       "  <tbody>\n",
       "    <tr>\n",
       "      <th>0</th>\n",
       "      <td>Male</td>\n",
       "      <td>3707</td>\n",
       "      <td>35145</td>\n",
       "    </tr>\n",
       "    <tr>\n",
       "      <th>1</th>\n",
       "      <td>Female</td>\n",
       "      <td>3339</td>\n",
       "      <td>21993</td>\n",
       "    </tr>\n",
       "  </tbody>\n",
       "</table>\n",
       "</div>"
      ],
      "text/plain": [
       "      Row   Yes     No\n",
       "0    Male  3707  35145\n",
       "1  Female  3339  21993"
      ]
     },
     "execution_count": 18,
     "metadata": {},
     "output_type": "execute_result"
    }
   ],
   "source": [
    "# A value of 0 means male while 1 means female\n",
    "\n",
    "# when index is 0 -> non-diabetic\n",
    "# when index is 1 -> diabetic\n",
    "\n",
    "values_lowRisk = [0,0]\n",
    "values_highRisk = [0,0]\n",
    "\n",
    "for index, row in data.iterrows():\n",
    "    # Access row values using column names\n",
    "    bool_diabetes = row['diabetes']\n",
    "    gender_level = row['gender']\n",
    "    i = 0\n",
    "    \n",
    "    if gender_level == 0:\n",
    "        if bool_diabetes:\n",
    "            i = 1\n",
    "        values_lowRisk[i] += 1\n",
    "    else:\n",
    "        if bool_diabetes:\n",
    "            i = 1\n",
    "        values_highRisk[i] += 1\n",
    "        \n",
    "print(values_lowRisk,values_highRisk)\n",
    "data_table = {\"Row\": [\"Male\",\"Female\"],\n",
    "              \"Yes\": [values_lowRisk[1],values_highRisk[1]],\n",
    "             \"No\": [values_lowRisk[0],values_highRisk[0]]}\n",
    "\n",
    "df = pd.DataFrame(data_table)\n",
    "df.head()\n",
    "    "
   ]
  },
  {
   "cell_type": "code",
   "execution_count": 19,
   "id": "8ff368ef",
   "metadata": {},
   "outputs": [
    {
     "name": "stdout",
     "output_type": "stream",
     "text": [
      "[[0.6150897826315237, 0.5261141072949191], [0.3849102173684763, 0.4738858927050809]]\n"
     ]
    },
    {
     "data": {
      "text/html": [
       "<div>\n",
       "<style scoped>\n",
       "    .dataframe tbody tr th:only-of-type {\n",
       "        vertical-align: middle;\n",
       "    }\n",
       "\n",
       "    .dataframe tbody tr th {\n",
       "        vertical-align: top;\n",
       "    }\n",
       "\n",
       "    .dataframe thead th {\n",
       "        text-align: right;\n",
       "    }\n",
       "</style>\n",
       "<table border=\"1\" class=\"dataframe\">\n",
       "  <thead>\n",
       "    <tr style=\"text-align: right;\">\n",
       "      <th></th>\n",
       "      <th>Row</th>\n",
       "      <th>Yes</th>\n",
       "      <th>No</th>\n",
       "      <th>P(Yes)</th>\n",
       "      <th>P(No)</th>\n",
       "    </tr>\n",
       "  </thead>\n",
       "  <tbody>\n",
       "    <tr>\n",
       "      <th>0</th>\n",
       "      <td>Male</td>\n",
       "      <td>3707</td>\n",
       "      <td>35145</td>\n",
       "      <td>0.526114</td>\n",
       "      <td>0.61509</td>\n",
       "    </tr>\n",
       "    <tr>\n",
       "      <th>1</th>\n",
       "      <td>Female</td>\n",
       "      <td>3339</td>\n",
       "      <td>21993</td>\n",
       "      <td>0.473886</td>\n",
       "      <td>0.38491</td>\n",
       "    </tr>\n",
       "    <tr>\n",
       "      <th>2</th>\n",
       "      <td>Total</td>\n",
       "      <td>7046</td>\n",
       "      <td>57138</td>\n",
       "      <td></td>\n",
       "      <td></td>\n",
       "    </tr>\n",
       "  </tbody>\n",
       "</table>\n",
       "</div>"
      ],
      "text/plain": [
       "      Row   Yes     No    P(Yes)    P(No)\n",
       "0    Male  3707  35145  0.526114  0.61509\n",
       "1  Female  3339  21993  0.473886  0.38491\n",
       "2   Total  7046  57138                   "
      ]
     },
     "execution_count": 19,
     "metadata": {},
     "output_type": "execute_result"
    }
   ],
   "source": [
    "total_yes = values_lowRisk[1]+values_highRisk[1]\n",
    "total_no = values_lowRisk[0]+values_highRisk[0]\n",
    "\n",
    "classifiers['gender'] = [[values_lowRisk[0]/total_no,values_lowRisk[1]/total_yes],[values_highRisk[0]/total_no,values_highRisk[1]/total_yes]]\n",
    "print(classifiers['gender'])\n",
    "\n",
    "data_table = {\"Row\": [\"Male\",\"Female\",\"Total\"],\n",
    "              \"Yes\": [values_lowRisk[1],values_highRisk[1],values_lowRisk[1]+values_highRisk[1]],\n",
    "              \"No\":  [values_lowRisk[0],values_highRisk[0],values_lowRisk[0]+values_highRisk[0]],\n",
    "              \"P(Yes)\" : [values_lowRisk[1]/(values_lowRisk[1]+values_highRisk[1]),values_highRisk[1]/(values_lowRisk[1]+values_highRisk[1]),\"\"],\n",
    "              \"P(No)\" : [values_lowRisk[0]/(values_lowRisk[0]+values_highRisk[0]),values_highRisk[0]/(values_lowRisk[0]+values_highRisk[0]),\"\"]}\n",
    "\n",
    "df = pd.DataFrame(data_table)\n",
    "df.head()"
   ]
  },
  {
   "cell_type": "markdown",
   "id": "bb697d95",
   "metadata": {},
   "source": [
    "### For Age Levels"
   ]
  },
  {
   "cell_type": "code",
   "execution_count": 20,
   "id": "011b8e73",
   "metadata": {},
   "outputs": [
    {
     "name": "stdout",
     "output_type": "stream",
     "text": [
      "[28405, 891] [28733, 6155]\n"
     ]
    },
    {
     "data": {
      "text/html": [
       "<div>\n",
       "<style scoped>\n",
       "    .dataframe tbody tr th:only-of-type {\n",
       "        vertical-align: middle;\n",
       "    }\n",
       "\n",
       "    .dataframe tbody tr th {\n",
       "        vertical-align: top;\n",
       "    }\n",
       "\n",
       "    .dataframe thead th {\n",
       "        text-align: right;\n",
       "    }\n",
       "</style>\n",
       "<table border=\"1\" class=\"dataframe\">\n",
       "  <thead>\n",
       "    <tr style=\"text-align: right;\">\n",
       "      <th></th>\n",
       "      <th>Row</th>\n",
       "      <th>Yes</th>\n",
       "      <th>No</th>\n",
       "    </tr>\n",
       "  </thead>\n",
       "  <tbody>\n",
       "    <tr>\n",
       "      <th>0</th>\n",
       "      <td>&lt; Young Adult</td>\n",
       "      <td>891</td>\n",
       "      <td>28405</td>\n",
       "    </tr>\n",
       "    <tr>\n",
       "      <th>1</th>\n",
       "      <td>Older Adults and Elderly</td>\n",
       "      <td>6155</td>\n",
       "      <td>28733</td>\n",
       "    </tr>\n",
       "  </tbody>\n",
       "</table>\n",
       "</div>"
      ],
      "text/plain": [
       "                        Row   Yes     No\n",
       "0             < Young Adult   891  28405\n",
       "1  Older Adults and Elderly  6155  28733"
      ]
     },
     "execution_count": 20,
     "metadata": {},
     "output_type": "execute_result"
    }
   ],
   "source": [
    "# Remember that a value of 45 and above would suggest diabetic\n",
    "\n",
    "# when index is 0 -> non-diabetic\n",
    "# when index is 1 -> diabetic\n",
    "\n",
    "values_lowRisk = [0,0]\n",
    "values_highRisk = [0,0]\n",
    "\n",
    "for index, row in data.iterrows():\n",
    "    # Access row values using column names\n",
    "    bool_diabetes = row['diabetes']\n",
    "    age_level = row['age']\n",
    "    i = 0\n",
    "    \n",
    "    if age_level < 45:\n",
    "        if bool_diabetes:\n",
    "            i = 1\n",
    "        values_lowRisk[i] += 1\n",
    "    else:\n",
    "        if bool_diabetes:\n",
    "            i = 1\n",
    "        values_highRisk[i] += 1\n",
    "        \n",
    "print(values_lowRisk,values_highRisk)\n",
    "data_table = {\"Row\": [\"< Young Adult\",\"Older Adults and Elderly\"],\n",
    "              \"Yes\": [values_lowRisk[1],values_highRisk[1]],\n",
    "             \"No\": [values_lowRisk[0],values_highRisk[0]]}\n",
    "\n",
    "df = pd.DataFrame(data_table)\n",
    "df.head()\n",
    "    "
   ]
  },
  {
   "cell_type": "code",
   "execution_count": 21,
   "id": "2c016ebe",
   "metadata": {},
   "outputs": [
    {
     "name": "stdout",
     "output_type": "stream",
     "text": [
      "[[0.4971297560292625, 0.1264547260857224], [0.5028702439707375, 0.8735452739142776]]\n"
     ]
    },
    {
     "data": {
      "text/html": [
       "<div>\n",
       "<style scoped>\n",
       "    .dataframe tbody tr th:only-of-type {\n",
       "        vertical-align: middle;\n",
       "    }\n",
       "\n",
       "    .dataframe tbody tr th {\n",
       "        vertical-align: top;\n",
       "    }\n",
       "\n",
       "    .dataframe thead th {\n",
       "        text-align: right;\n",
       "    }\n",
       "</style>\n",
       "<table border=\"1\" class=\"dataframe\">\n",
       "  <thead>\n",
       "    <tr style=\"text-align: right;\">\n",
       "      <th></th>\n",
       "      <th>Row</th>\n",
       "      <th>Yes</th>\n",
       "      <th>No</th>\n",
       "      <th>P(Yes)</th>\n",
       "      <th>P(No)</th>\n",
       "    </tr>\n",
       "  </thead>\n",
       "  <tbody>\n",
       "    <tr>\n",
       "      <th>0</th>\n",
       "      <td>&lt; Young Adult</td>\n",
       "      <td>891</td>\n",
       "      <td>28405</td>\n",
       "      <td>0.126455</td>\n",
       "      <td>0.49713</td>\n",
       "    </tr>\n",
       "    <tr>\n",
       "      <th>1</th>\n",
       "      <td>Older Adults and Elderly</td>\n",
       "      <td>6155</td>\n",
       "      <td>28733</td>\n",
       "      <td>0.873545</td>\n",
       "      <td>0.50287</td>\n",
       "    </tr>\n",
       "    <tr>\n",
       "      <th>2</th>\n",
       "      <td>Total</td>\n",
       "      <td>7046</td>\n",
       "      <td>57138</td>\n",
       "      <td></td>\n",
       "      <td></td>\n",
       "    </tr>\n",
       "  </tbody>\n",
       "</table>\n",
       "</div>"
      ],
      "text/plain": [
       "                        Row   Yes     No    P(Yes)    P(No)\n",
       "0             < Young Adult   891  28405  0.126455  0.49713\n",
       "1  Older Adults and Elderly  6155  28733  0.873545  0.50287\n",
       "2                     Total  7046  57138                   "
      ]
     },
     "execution_count": 21,
     "metadata": {},
     "output_type": "execute_result"
    }
   ],
   "source": [
    "total_yes = values_lowRisk[1]+values_highRisk[1]\n",
    "total_no = values_lowRisk[0]+values_highRisk[0]\n",
    "\n",
    "classifiers['age'] = [[values_lowRisk[0]/total_no,values_lowRisk[1]/total_yes],[values_highRisk[0]/total_no,values_highRisk[1]/total_yes]]\n",
    "print(classifiers['age'])\n",
    "\n",
    "data_table = {\"Row\": [\"< Young Adult\",\"Older Adults and Elderly\", \"Total\"],\n",
    "              \"Yes\": [values_lowRisk[1],values_highRisk[1],values_lowRisk[1]+values_highRisk[1]],\n",
    "              \"No\":  [values_lowRisk[0],values_highRisk[0],values_lowRisk[0]+values_highRisk[0]],\n",
    "              \"P(Yes)\" : [values_lowRisk[1]/(values_lowRisk[1]+values_highRisk[1]),values_highRisk[1]/(values_lowRisk[1]+values_highRisk[1]),\"\"],\n",
    "              \"P(No)\" : [values_lowRisk[0]/(values_lowRisk[0]+values_highRisk[0]),values_highRisk[0]/(values_lowRisk[0]+values_highRisk[0]),\"\"]}\n",
    "\n",
    "df = pd.DataFrame(data_table)\n",
    "df.head()"
   ]
  },
  {
   "cell_type": "markdown",
   "id": "75c466ac",
   "metadata": {},
   "source": [
    "### For Diabetes Levels"
   ]
  },
  {
   "cell_type": "code",
   "execution_count": 22,
   "id": "c04d5c7a",
   "metadata": {},
   "outputs": [
    {
     "name": "stdout",
     "output_type": "stream",
     "text": [
      "[0.8902218621463293, 0.1097781378536707]\n"
     ]
    },
    {
     "data": {
      "text/html": [
       "<div>\n",
       "<style scoped>\n",
       "    .dataframe tbody tr th:only-of-type {\n",
       "        vertical-align: middle;\n",
       "    }\n",
       "\n",
       "    .dataframe tbody tr th {\n",
       "        vertical-align: top;\n",
       "    }\n",
       "\n",
       "    .dataframe thead th {\n",
       "        text-align: right;\n",
       "    }\n",
       "</style>\n",
       "<table border=\"1\" class=\"dataframe\">\n",
       "  <thead>\n",
       "    <tr style=\"text-align: right;\">\n",
       "      <th></th>\n",
       "      <th>Row</th>\n",
       "      <th>Raw</th>\n",
       "      <th>Probability</th>\n",
       "    </tr>\n",
       "  </thead>\n",
       "  <tbody>\n",
       "    <tr>\n",
       "      <th>0</th>\n",
       "      <td>Yes</td>\n",
       "      <td>7046</td>\n",
       "      <td>0.109778</td>\n",
       "    </tr>\n",
       "    <tr>\n",
       "      <th>1</th>\n",
       "      <td>No</td>\n",
       "      <td>57138</td>\n",
       "      <td>0.890222</td>\n",
       "    </tr>\n",
       "    <tr>\n",
       "      <th>2</th>\n",
       "      <td>Total</td>\n",
       "      <td>64184</td>\n",
       "      <td></td>\n",
       "    </tr>\n",
       "  </tbody>\n",
       "</table>\n",
       "</div>"
      ],
      "text/plain": [
       "     Row    Raw Probability\n",
       "0    Yes   7046    0.109778\n",
       "1     No  57138    0.890222\n",
       "2  Total  64184            "
      ]
     },
     "execution_count": 22,
     "metadata": {},
     "output_type": "execute_result"
    }
   ],
   "source": [
    "# Remember that a value of 45 and above would suggest diabetic\n",
    "\n",
    "# when index is 0 -> non-diabetic\n",
    "# when index is 1 -> diabetic\n",
    "\n",
    "values_absent = 0\n",
    "values_present = 0\n",
    "\n",
    "for index, row in data.iterrows():\n",
    "    # Access row values using column names\n",
    "    bool_diabetes = row['diabetes']\n",
    "    if bool_diabetes:\n",
    "        values_present += 1\n",
    "    else:\n",
    "        values_absent += 1\n",
    "        \n",
    "total_yes = values_present + values_absent\n",
    "total_no = values_present + values_absent\n",
    "        \n",
    "data_table = {\"Row\": [\"Yes\",\"No\",\"Total\"],\n",
    "              \"Raw\": [values_present,values_absent,total_yes],\n",
    "             \"Probability\": [values_present/total_yes,values_absent/total_no,\"\"]}\n",
    "\n",
    "classifiers['diabetes'] = [values_absent/total_no, values_present/total_yes]\n",
    "print(classifiers['diabetes'])\n",
    "\n",
    "df = pd.DataFrame(data_table)\n",
    "df.head()\n",
    "    "
   ]
  },
  {
   "cell_type": "markdown",
   "id": "39fdce05",
   "metadata": {},
   "source": [
    "## Creating the Naive Bayes Function"
   ]
  },
  {
   "cell_type": "markdown",
   "id": "75180d35",
   "metadata": {},
   "source": [
    "The goal of the function below is to accept a row in the format of the dataset and translate it into its corresponding result via Naive Bayes Function. We then check to see whether or now it is correct. We would be releasing it in the format that would follow the said thing"
   ]
  },
  {
   "cell_type": "raw",
   "id": "03165dd1",
   "metadata": {},
   "source": [
    "['False Positive', 'False']]\n",
    "[['True', 'False Negative']"
   ]
  },
  {
   "cell_type": "markdown",
   "id": "bf666fdb",
   "metadata": {},
   "source": [
    "For the Naive Bayes function, we need to calculate the probability of it being true vs the probability of it being false. Whichever one is the higher value is the decision that the model will take"
   ]
  },
  {
   "cell_type": "code",
   "execution_count": 23,
   "id": "13de68cc",
   "metadata": {},
   "outputs": [],
   "source": [
    "# translating because I forgot to do it in the database :sob:\n",
    "def translate_age(age):\n",
    "    if age < 45:\n",
    "        return 0\n",
    "    return 1\n",
    "\n",
    "# temporary function because of not cleaning the data\n",
    "def translate_gender(gender):\n",
    "    if gender == 0:\n",
    "        return 0\n",
    "    return 1\n",
    "\n",
    "def translate_bmi(bmi):\n",
    "    if bmi < 30:\n",
    "        return 0\n",
    "    return 1\n",
    "\n",
    "def translate_hb1ac(value):\n",
    "    if value < 6.5:\n",
    "        return 0\n",
    "    return 1\n",
    "\n",
    "def translate_glucose(gluc):\n",
    "    if gluc < 200:\n",
    "        return 0\n",
    "    return 1"
   ]
  },
  {
   "cell_type": "code",
   "execution_count": 24,
   "id": "4ecee934",
   "metadata": {},
   "outputs": [],
   "source": [
    "def naive_bayes_primitive(row):\n",
    "    \n",
    "    gender_index = translate_gender(row['gender'])\n",
    "    age_index = translate_age(row['age'])\n",
    "    hypertension_index = int(row['hypertension'])\n",
    "    heart_disease_index = int(row['heart_disease'])\n",
    "    smoking_history_index = int(row['smoking_history'])\n",
    "    bmi_index = translate_bmi(row['bmi'])\n",
    "    hb1ac_index = translate_hb1ac(row['HbA1c_level'])\n",
    "    blood_glucose_index = translate_glucose(row['blood_glucose_level'])\n",
    "    \n",
    "    # probability of it being true    \n",
    "    pTrue = classifiers['gender'][gender_index][1] * classifiers['age'][age_index][1] * classifiers['hypertension'][hypertension_index][1] * \\\n",
    "            classifiers['smoking_history'][smoking_history_index][1] * classifiers['bmi'][bmi_index][1] * \\\n",
    "            classifiers['HbA1c_level'][hb1ac_index][1] * classifiers['blood_glucose_level'][blood_glucose_index][1] * classifiers['diabetes'][1]\n",
    "    \n",
    "    # probability of it being false\n",
    "    pFalse = classifiers['gender'][gender_index][0] * classifiers['age'][age_index][0] * classifiers['hypertension'][hypertension_index][0] * \\\n",
    "            classifiers['smoking_history'][smoking_history_index][0] * classifiers['bmi'][bmi_index][0] * \\\n",
    "            classifiers['HbA1c_level'][hb1ac_index][0] * classifiers['blood_glucose_level'][blood_glucose_index][0] * classifiers['diabetes'][0]\n",
    "    \n",
    "    true_indicator = pTrue / (pTrue + pFalse)\n",
    "    false_indicator = pFalse / (pTrue + pFalse)\n",
    "    \n",
    "    if true_indicator > false_indicator:\n",
    "        return 1\n",
    "    return 0"
   ]
  },
  {
   "cell_type": "markdown",
   "id": "87adeb31",
   "metadata": {},
   "source": [
    "## Testing the Model"
   ]
  },
  {
   "cell_type": "markdown",
   "id": "886f4f76",
   "metadata": {},
   "source": [
    "For this, we would be testing the model to see how it fares well. We would be using random sampling in getting the specific rows to test by getting 30% of the total rows and test them against itself"
   ]
  },
  {
   "cell_type": "code",
   "execution_count": 25,
   "id": "897e1c48",
   "metadata": {},
   "outputs": [
    {
     "name": "stdout",
     "output_type": "stream",
     "text": [
      "19255\n",
      "       gender   age  hypertension  heart_disease  smoking_history    bmi  \\\n",
      "30296       1  20.0             0              0                0  33.42   \n",
      "8441        1  21.0             0              0                0  22.38   \n",
      "19392       0  38.0             0              0                0  20.74   \n",
      "37416       0  80.0             0              0                3  26.99   \n",
      "47951       0  62.0             0              0                0  29.29   \n",
      "...       ...   ...           ...            ...              ...    ...   \n",
      "36815       0  24.0             0              0                0  27.32   \n",
      "58517       1  49.0             0              0                3  25.16   \n",
      "48176       1  75.0             1              0                2  40.00   \n",
      "32454       0  58.0             0              0                0  41.01   \n",
      "26986       1  76.0             0              0                2  25.68   \n",
      "\n",
      "       HbA1c_level  blood_glucose_level  diabetes  \n",
      "30296          3.5                  126         0  \n",
      "8441           6.5                   85         0  \n",
      "19392          4.8                  145         0  \n",
      "37416          8.2                  155         1  \n",
      "47951          5.0                  130         0  \n",
      "...            ...                  ...       ...  \n",
      "36815          6.2                   90         0  \n",
      "58517          5.7                  158         0  \n",
      "48176          8.8                  300         1  \n",
      "32454          6.0                  145         1  \n",
      "26986          3.5                  145         0  \n",
      "\n",
      "[19255 rows x 9 columns]\n"
     ]
    }
   ],
   "source": [
    "length = len(data)\n",
    "sample_size = int(length * 0.3)\n",
    "\n",
    "random_rows = data.sample(n=sample_size, replace=False)\n",
    "remaining_rows = data.drop(random_rows.index)\n",
    "\n",
    "print(len(random_rows))\n",
    "print(random_rows)"
   ]
  },
  {
   "cell_type": "markdown",
   "id": "ddaf71ef",
   "metadata": {},
   "source": [
    "Remember that we would be using "
   ]
  },
  {
   "cell_type": "raw",
   "id": "17d776a7",
   "metadata": {},
   "source": [
    "['False Positive', 'False']]\n",
    "[['True', 'False Negative']"
   ]
  },
  {
   "cell_type": "markdown",
   "id": "6dc3ab2b",
   "metadata": {},
   "source": [
    "To test the efficiency of our model."
   ]
  },
  {
   "cell_type": "code",
   "execution_count": 26,
   "id": "01bbced1",
   "metadata": {},
   "outputs": [
    {
     "data": {
      "text/html": [
       "<div>\n",
       "<style scoped>\n",
       "    .dataframe tbody tr th:only-of-type {\n",
       "        vertical-align: middle;\n",
       "    }\n",
       "\n",
       "    .dataframe tbody tr th {\n",
       "        vertical-align: top;\n",
       "    }\n",
       "\n",
       "    .dataframe thead th {\n",
       "        text-align: right;\n",
       "    }\n",
       "</style>\n",
       "<table border=\"1\" class=\"dataframe\">\n",
       "  <thead>\n",
       "    <tr style=\"text-align: right;\">\n",
       "      <th></th>\n",
       "      <th></th>\n",
       "      <th>Predicted True</th>\n",
       "      <th>Predicted False</th>\n",
       "    </tr>\n",
       "  </thead>\n",
       "  <tbody>\n",
       "    <tr>\n",
       "      <th>0</th>\n",
       "      <td>Actually False</td>\n",
       "      <td>1259</td>\n",
       "      <td>16657</td>\n",
       "    </tr>\n",
       "    <tr>\n",
       "      <th>1</th>\n",
       "      <td>Actually True</td>\n",
       "      <td>873</td>\n",
       "      <td>466</td>\n",
       "    </tr>\n",
       "  </tbody>\n",
       "</table>\n",
       "</div>"
      ],
      "text/plain": [
       "                   Predicted True  Predicted False\n",
       "0  Actually False            1259            16657\n",
       "1   Actually True             873              466"
      ]
     },
     "execution_count": 26,
     "metadata": {},
     "output_type": "execute_result"
    }
   ],
   "source": [
    "true_array = [0,0]\n",
    "false_array = [0,0]\n",
    "\n",
    "predicted = []\n",
    "true_label = []\n",
    "\n",
    "for index, row in random_rows.iterrows():\n",
    "    diabetes_score = row['diabetes']\n",
    "    true_label.append(diabetes_score)\n",
    "    \n",
    "    test = naive_bayes_primitive(row)\n",
    "    predicted.append(test)\n",
    "    \n",
    "    # if the result should be false\n",
    "    if diabetes_score == 0:\n",
    "        false_array[test] += 1\n",
    "    # else if the result should be true\n",
    "    else:\n",
    "        true_array[test] += 1\n",
    "        \n",
    "data_table = {\"\": [\"Actually False\",\"Actually True\"],\n",
    "              \"Predicted True\": true_array,\n",
    "             \"Predicted False\": false_array}\n",
    "\n",
    "true_array_model1 = true_array\n",
    "false_array_model1 = false_array\n",
    "\n",
    "df = pd.DataFrame(data_table)\n",
    "df.head()"
   ]
  },
  {
   "cell_type": "markdown",
   "id": "46066f5d",
   "metadata": {},
   "source": [
    "## F1 Score"
   ]
  },
  {
   "cell_type": "markdown",
   "id": "d1196465",
   "metadata": {},
   "source": [
    "F1 score is an alternative machine learning evaluation metric that assesses the predictive skill of a model by elaborating on its class-wise performance rather than an overall performance as done by accuracy. F1 score combines two competing metrics- precision and recall scores of a model, leading to its widespread use in recent literature.\n",
    "\n",
    "https://www.statology.org/what-is-a-good-f1-score/\n",
    "\n",
    "https://www.v7labs.com/blog/f1-score-guide"
   ]
  },
  {
   "cell_type": "code",
   "execution_count": 27,
   "id": "69ac823f",
   "metadata": {},
   "outputs": [
    {
     "name": "stdout",
     "output_type": "stream",
     "text": [
      "F1 score: 0.5030250648228176\n"
     ]
    }
   ],
   "source": [
    "from sklearn.metrics import f1_score\n",
    "\n",
    "# Calculate the F1 score\n",
    "f1 = f1_score(predicted, true_label)\n",
    "\n",
    "f1_model1 = f1\n",
    "\n",
    "print(\"F1 score:\", f1)"
   ]
  },
  {
   "cell_type": "markdown",
   "id": "52e07b1e",
   "metadata": {},
   "source": [
    "## Area Under the Curve - Receiver Operating Characteristic"
   ]
  },
  {
   "cell_type": "markdown",
   "id": "03dfe5e8",
   "metadata": {},
   "source": [
    "Area Under the Curve of the Receiver Operating Characteristic  is basically a way of measuring the performance of an ML model. AUC measures the ability of a binary classifier to distinguish between classes and is used as a summary of the ROC curve.\n",
    "\n",
    "The ROC AUC score tells us how efficient the model is. The higher the AUC, the better the model’s performance at distinguishing between the positive and negative classes. An AUC score of 1 means the classifier can perfectly distinguish between all the Positive and the Negative class points. An AUC value of 0 shows that the classifier predicts all Negatives as Positives and vice versa.\n",
    "\n",
    "An ROC-AUC score of 0.7-0.8 means that the model is acceptable. A score of 0.5 means that the model has trouble distinguishing classes. A score of 0.8 and above means that the model is excellent.\n",
    "\n",
    "https://www.sciencedirect.com/science/article/pii/S1556086415306043\n",
    "\n",
    "https://www.analyticsvidhya.com/blog/2020/06/auc-roc-curve-machine-learning/"
   ]
  },
  {
   "cell_type": "code",
   "execution_count": 28,
   "id": "e15bbff3",
   "metadata": {},
   "outputs": [
    {
     "name": "stdout",
     "output_type": "stream",
     "text": [
      "AUC-ROC: 0.6911299072300963\n"
     ]
    }
   ],
   "source": [
    "from sklearn.metrics import roc_auc_score\n",
    "\n",
    "# Calculate the AUC-ROC\n",
    "auc_roc = roc_auc_score(true_label, predicted)\n",
    "\n",
    "auc_roc_model1 = auc_roc\n",
    "\n",
    "print(\"AUC-ROC:\", auc_roc)"
   ]
  },
  {
   "cell_type": "markdown",
   "id": "d632bd6c",
   "metadata": {},
   "source": [
    "## Basic Observation"
   ]
  },
  {
   "cell_type": "code",
   "execution_count": 29,
   "id": "44b6dcf0",
   "metadata": {},
   "outputs": [
    {
     "name": "stdout",
     "output_type": "stream",
     "text": [
      "0.9104128797714879\n"
     ]
    }
   ],
   "source": [
    "num_of_wrong = false_array[1] + true_array[0]\n",
    "num_of_correct = false_array[0] + true_array[1]\n",
    "\n",
    "print(num_of_correct / (num_of_wrong + num_of_correct))"
   ]
  },
  {
   "cell_type": "markdown",
   "id": "8c09d9e2",
   "metadata": {},
   "source": [
    "## Model Version 2 (with the fine tuning assumptions)"
   ]
  },
  {
   "cell_type": "markdown",
   "id": "9c5b2e9d",
   "metadata": {},
   "source": [
    "The purpose of this section is to compare and contrast on whether or not breaking down the features can make a more accurate prediction. The only changes here is on the Hb1aC, BMI and age. As such, these values will be updated in our dictionary"
   ]
  },
  {
   "cell_type": "markdown",
   "id": "beba02ec",
   "metadata": {},
   "source": [
    "### For hB1aC Levels"
   ]
  },
  {
   "cell_type": "code",
   "execution_count": 30,
   "id": "2e9c6df7",
   "metadata": {},
   "outputs": [
    {
     "name": "stdout",
     "output_type": "stream",
     "text": [
      "[23660, 0] [23825, 2757] [9653, 4289]\n"
     ]
    },
    {
     "data": {
      "text/html": [
       "<div>\n",
       "<style scoped>\n",
       "    .dataframe tbody tr th:only-of-type {\n",
       "        vertical-align: middle;\n",
       "    }\n",
       "\n",
       "    .dataframe tbody tr th {\n",
       "        vertical-align: top;\n",
       "    }\n",
       "\n",
       "    .dataframe thead th {\n",
       "        text-align: right;\n",
       "    }\n",
       "</style>\n",
       "<table border=\"1\" class=\"dataframe\">\n",
       "  <thead>\n",
       "    <tr style=\"text-align: right;\">\n",
       "      <th></th>\n",
       "      <th>Row</th>\n",
       "      <th>Yes</th>\n",
       "      <th>No</th>\n",
       "    </tr>\n",
       "  </thead>\n",
       "  <tbody>\n",
       "    <tr>\n",
       "      <th>0</th>\n",
       "      <td>Low Risk</td>\n",
       "      <td>0</td>\n",
       "      <td>23660</td>\n",
       "    </tr>\n",
       "    <tr>\n",
       "      <th>1</th>\n",
       "      <td>Medium Risk</td>\n",
       "      <td>2757</td>\n",
       "      <td>23825</td>\n",
       "    </tr>\n",
       "    <tr>\n",
       "      <th>2</th>\n",
       "      <td>High Risk</td>\n",
       "      <td>4289</td>\n",
       "      <td>9653</td>\n",
       "    </tr>\n",
       "  </tbody>\n",
       "</table>\n",
       "</div>"
      ],
      "text/plain": [
       "           Row   Yes     No\n",
       "0     Low Risk     0  23660\n",
       "1  Medium Risk  2757  23825\n",
       "2    High Risk  4289   9653"
      ]
     },
     "execution_count": 30,
     "metadata": {},
     "output_type": "execute_result"
    }
   ],
   "source": [
    "# Remember that a value of 6.5 and above would result in a favorable diabetic reading\n",
    "\n",
    "# when index is 0 -> non-diabetic\n",
    "# when index is 1 -> diabetic\n",
    "\n",
    "values_lowRisk = [0,0]\n",
    "values_midRisk = [0,0]\n",
    "values_highRisk = [0,0]\n",
    "\n",
    "for index, row in data.iterrows():\n",
    "    # Access row values using column names\n",
    "    bool_diabetes = row['diabetes']\n",
    "    hb1ac_level = row['HbA1c_level']\n",
    "    i = 0\n",
    "    \n",
    "    if hb1ac_level < 5.5:\n",
    "        if bool_diabetes:\n",
    "            i = 1\n",
    "        values_lowRisk[i] += 1\n",
    "    elif hb1ac_level >= 5.5 and hb1ac_level < 6.5:\n",
    "        if bool_diabetes:\n",
    "            i = 1\n",
    "        values_midRisk[i] += 1\n",
    "    else:\n",
    "        if bool_diabetes:\n",
    "            i = 1\n",
    "        values_highRisk[i] += 1\n",
    "        \n",
    "print(values_lowRisk,values_midRisk,values_highRisk)\n",
    "data_table = {\"Row\": [\"Low Risk\",\"Medium Risk\",\"High Risk\"],\n",
    "              \"Yes\": [values_lowRisk[1],values_midRisk[1],values_highRisk[1]],\n",
    "             \"No\": [values_lowRisk[0],values_midRisk[0],values_highRisk[0]]}\n",
    "\n",
    "df = pd.DataFrame(data_table)\n",
    "df.head()\n",
    "    "
   ]
  },
  {
   "cell_type": "code",
   "execution_count": 31,
   "id": "77440952",
   "metadata": {},
   "outputs": [
    {
     "name": "stdout",
     "output_type": "stream",
     "text": [
      "[[0.6559467701691156, 0.0], [0.660521208760743, 0.39128583593528243], [0.2676185195453285, 0.6087141640647176]]\n"
     ]
    },
    {
     "data": {
      "text/html": [
       "<div>\n",
       "<style scoped>\n",
       "    .dataframe tbody tr th:only-of-type {\n",
       "        vertical-align: middle;\n",
       "    }\n",
       "\n",
       "    .dataframe tbody tr th {\n",
       "        vertical-align: top;\n",
       "    }\n",
       "\n",
       "    .dataframe thead th {\n",
       "        text-align: right;\n",
       "    }\n",
       "</style>\n",
       "<table border=\"1\" class=\"dataframe\">\n",
       "  <thead>\n",
       "    <tr style=\"text-align: right;\">\n",
       "      <th></th>\n",
       "      <th>Row</th>\n",
       "      <th>Yes</th>\n",
       "      <th>No</th>\n",
       "      <th>P(Yes)</th>\n",
       "      <th>P(No)</th>\n",
       "    </tr>\n",
       "  </thead>\n",
       "  <tbody>\n",
       "    <tr>\n",
       "      <th>0</th>\n",
       "      <td>Low Risk</td>\n",
       "      <td>0</td>\n",
       "      <td>23660</td>\n",
       "      <td>0.0</td>\n",
       "      <td>0.655947</td>\n",
       "    </tr>\n",
       "    <tr>\n",
       "      <th>1</th>\n",
       "      <td>Medium Risk</td>\n",
       "      <td>2757</td>\n",
       "      <td>2757</td>\n",
       "      <td>0.391286</td>\n",
       "      <td>0.660521</td>\n",
       "    </tr>\n",
       "    <tr>\n",
       "      <th>2</th>\n",
       "      <td>High Risk</td>\n",
       "      <td>4289</td>\n",
       "      <td>9653</td>\n",
       "      <td>0.608714</td>\n",
       "      <td>0.267619</td>\n",
       "    </tr>\n",
       "    <tr>\n",
       "      <th>3</th>\n",
       "      <td>Total</td>\n",
       "      <td>7046</td>\n",
       "      <td>36070</td>\n",
       "      <td></td>\n",
       "      <td></td>\n",
       "    </tr>\n",
       "  </tbody>\n",
       "</table>\n",
       "</div>"
      ],
      "text/plain": [
       "           Row   Yes     No    P(Yes)     P(No)\n",
       "0     Low Risk     0  23660       0.0  0.655947\n",
       "1  Medium Risk  2757   2757  0.391286  0.660521\n",
       "2    High Risk  4289   9653  0.608714  0.267619\n",
       "3        Total  7046  36070                    "
      ]
     },
     "execution_count": 31,
     "metadata": {},
     "output_type": "execute_result"
    }
   ],
   "source": [
    "total_yes = values_lowRisk[1]+values_highRisk[1]+values_midRisk[1]\n",
    "total_no = values_lowRisk[0]+values_highRisk[0]+values_midRisk[1]\n",
    "\n",
    "classifiers['HbA1c_level'] = [[values_lowRisk[0]/total_no,values_lowRisk[1]/total_yes],[values_midRisk[0]/total_no,values_midRisk[1]/total_yes],[values_highRisk[0]/total_no,values_highRisk[1]/total_yes]]\n",
    "print(classifiers['HbA1c_level'])\n",
    "\n",
    "data_table = {\"Row\": [\"Low Risk\",\"Medium Risk\",\"High Risk\",\"Total\"],\n",
    "              \"Yes\": [values_lowRisk[1],values_midRisk[1],values_highRisk[1],total_yes],\n",
    "              \"No\":  [values_lowRisk[0],values_midRisk[1],values_highRisk[0],total_no],\n",
    "              \"P(Yes)\" : [values_lowRisk[1]/(total_yes),values_midRisk[1]/(total_yes),values_highRisk[1]/(total_yes),\"\"],\n",
    "              \"P(No)\" : [values_lowRisk[0]/(total_no),values_midRisk[0]/(total_no),values_highRisk[0]/(total_no),\"\"]}\n",
    "\n",
    "df = pd.DataFrame(data_table)\n",
    "df.head()"
   ]
  },
  {
   "cell_type": "markdown",
   "id": "0448221a",
   "metadata": {},
   "source": [
    "### For BMI Levels"
   ]
  },
  {
   "cell_type": "code",
   "execution_count": 32,
   "id": "42925836",
   "metadata": {},
   "outputs": [
    {
     "name": "stdout",
     "output_type": "stream",
     "text": [
      "[16522, 800] [15282, 3680]\n"
     ]
    },
    {
     "data": {
      "text/html": [
       "<div>\n",
       "<style scoped>\n",
       "    .dataframe tbody tr th:only-of-type {\n",
       "        vertical-align: middle;\n",
       "    }\n",
       "\n",
       "    .dataframe tbody tr th {\n",
       "        vertical-align: top;\n",
       "    }\n",
       "\n",
       "    .dataframe thead th {\n",
       "        text-align: right;\n",
       "    }\n",
       "</style>\n",
       "<table border=\"1\" class=\"dataframe\">\n",
       "  <thead>\n",
       "    <tr style=\"text-align: right;\">\n",
       "      <th></th>\n",
       "      <th>Row</th>\n",
       "      <th>Yes</th>\n",
       "      <th>No</th>\n",
       "    </tr>\n",
       "  </thead>\n",
       "  <tbody>\n",
       "    <tr>\n",
       "      <th>0</th>\n",
       "      <td>Low Risk</td>\n",
       "      <td>800</td>\n",
       "      <td>16522</td>\n",
       "    </tr>\n",
       "    <tr>\n",
       "      <th>1</th>\n",
       "      <td>Medium Risk</td>\n",
       "      <td>2566</td>\n",
       "      <td>25334</td>\n",
       "    </tr>\n",
       "    <tr>\n",
       "      <th>2</th>\n",
       "      <td>High Risk</td>\n",
       "      <td>3680</td>\n",
       "      <td>15282</td>\n",
       "    </tr>\n",
       "  </tbody>\n",
       "</table>\n",
       "</div>"
      ],
      "text/plain": [
       "           Row   Yes     No\n",
       "0     Low Risk   800  16522\n",
       "1  Medium Risk  2566  25334\n",
       "2    High Risk  3680  15282"
      ]
     },
     "execution_count": 32,
     "metadata": {},
     "output_type": "execute_result"
    }
   ],
   "source": [
    "# Remember that a value of 30 and above would result in a favorable diabetic reading\n",
    "\n",
    "# when index is 0 -> non-diabetic\n",
    "# when index is 1 -> diabetic\n",
    "\n",
    "values_lowRisk = [0,0]\n",
    "values_midRisk = [0,0]\n",
    "values_highRisk = [0,0]\n",
    "\n",
    "for index, row in data.iterrows():\n",
    "    # Access row values using column names\n",
    "    bool_diabetes = row['diabetes']\n",
    "    bmi_level = row['bmi']\n",
    "    i = 0\n",
    "    \n",
    "    if bmi_level < 25:\n",
    "        if bool_diabetes:\n",
    "            i = 1\n",
    "        values_lowRisk[i] += 1\n",
    "    elif bmi_level >= 25 and bmi_level < 30:\n",
    "        if bool_diabetes:\n",
    "            i = 1\n",
    "        values_midRisk[i] += 1\n",
    "    else:\n",
    "        if bool_diabetes:\n",
    "            i = 1\n",
    "        values_highRisk[i] += 1\n",
    "        \n",
    "print(values_lowRisk,values_highRisk)\n",
    "data_table = {\"Row\": [\"Low Risk\",\"Medium Risk\",\"High Risk\"],\n",
    "              \"Yes\": [values_lowRisk[1],values_midRisk[1],values_highRisk[1]],\n",
    "             \"No\": [values_lowRisk[0],values_midRisk[0],values_highRisk[0]]}\n",
    "\n",
    "df = pd.DataFrame(data_table)\n",
    "df.head()\n",
    "    "
   ]
  },
  {
   "cell_type": "code",
   "execution_count": 33,
   "id": "31b74c37",
   "metadata": {},
   "outputs": [
    {
     "name": "stdout",
     "output_type": "stream",
     "text": [
      "[[0.28915957856417795, 0.11353959693443089], [0.4433826875284399, 0.36417825716718705], [0.26745773390738214, 0.5222821458983821]]\n"
     ]
    },
    {
     "data": {
      "text/html": [
       "<div>\n",
       "<style scoped>\n",
       "    .dataframe tbody tr th:only-of-type {\n",
       "        vertical-align: middle;\n",
       "    }\n",
       "\n",
       "    .dataframe tbody tr th {\n",
       "        vertical-align: top;\n",
       "    }\n",
       "\n",
       "    .dataframe thead th {\n",
       "        text-align: right;\n",
       "    }\n",
       "</style>\n",
       "<table border=\"1\" class=\"dataframe\">\n",
       "  <thead>\n",
       "    <tr style=\"text-align: right;\">\n",
       "      <th></th>\n",
       "      <th>Row</th>\n",
       "      <th>Yes</th>\n",
       "      <th>No</th>\n",
       "      <th>P(Yes)</th>\n",
       "      <th>P(No)</th>\n",
       "    </tr>\n",
       "  </thead>\n",
       "  <tbody>\n",
       "    <tr>\n",
       "      <th>0</th>\n",
       "      <td>Low Risk</td>\n",
       "      <td>800</td>\n",
       "      <td>16522</td>\n",
       "      <td>0.11354</td>\n",
       "      <td>0.28916</td>\n",
       "    </tr>\n",
       "    <tr>\n",
       "      <th>1</th>\n",
       "      <td>Medium Risk</td>\n",
       "      <td>2566</td>\n",
       "      <td>25334</td>\n",
       "      <td>0.364178</td>\n",
       "      <td>0.443383</td>\n",
       "    </tr>\n",
       "    <tr>\n",
       "      <th>2</th>\n",
       "      <td>High Risk</td>\n",
       "      <td>3680</td>\n",
       "      <td>15282</td>\n",
       "      <td>0.522282</td>\n",
       "      <td>0.267458</td>\n",
       "    </tr>\n",
       "    <tr>\n",
       "      <th>3</th>\n",
       "      <td>Total</td>\n",
       "      <td>7046</td>\n",
       "      <td>57138</td>\n",
       "      <td></td>\n",
       "      <td></td>\n",
       "    </tr>\n",
       "  </tbody>\n",
       "</table>\n",
       "</div>"
      ],
      "text/plain": [
       "           Row   Yes     No    P(Yes)     P(No)\n",
       "0     Low Risk   800  16522   0.11354   0.28916\n",
       "1  Medium Risk  2566  25334  0.364178  0.443383\n",
       "2    High Risk  3680  15282  0.522282  0.267458\n",
       "3        Total  7046  57138                    "
      ]
     },
     "execution_count": 33,
     "metadata": {},
     "output_type": "execute_result"
    }
   ],
   "source": [
    "total_yes = values_lowRisk[1]+values_highRisk[1]+values_midRisk[1]\n",
    "total_no = values_lowRisk[0]+values_highRisk[0]+values_midRisk[0]\n",
    "\n",
    "classifiers['bmi'] = [[values_lowRisk[0]/total_no,values_lowRisk[1]/total_yes],[values_midRisk[0]/total_no,values_midRisk[1]/total_yes],[values_highRisk[0]/total_no,values_highRisk[1]/total_yes]]\n",
    "print(classifiers['bmi'])\n",
    "\n",
    "data_table = {\"Row\": [\"Low Risk\",\"Medium Risk\",\"High Risk\",\"Total\"],\n",
    "              \"Yes\": [values_lowRisk[1],values_midRisk[1],values_highRisk[1],total_yes],\n",
    "              \"No\":  [values_lowRisk[0],values_midRisk[0],values_highRisk[0],total_no],\n",
    "              \"P(Yes)\" : [values_lowRisk[1]/(total_yes),values_midRisk[1]/(total_yes),values_highRisk[1]/(total_yes),\"\"],\n",
    "              \"P(No)\" : [values_lowRisk[0]/(total_no),values_midRisk[0]/(total_no),values_highRisk[0]/(total_no),\"\"]}\n",
    "\n",
    "df = pd.DataFrame(data_table)\n",
    "df.head()"
   ]
  },
  {
   "cell_type": "markdown",
   "id": "831d73cf",
   "metadata": {},
   "source": [
    "### For Age Levels"
   ]
  },
  {
   "cell_type": "code",
   "execution_count": 34,
   "id": "82c7956e",
   "metadata": {},
   "outputs": [
    {
     "name": "stdout",
     "output_type": "stream",
     "text": [
      "[28405, 891] [28733, 6155]\n"
     ]
    },
    {
     "data": {
      "text/html": [
       "<div>\n",
       "<style scoped>\n",
       "    .dataframe tbody tr th:only-of-type {\n",
       "        vertical-align: middle;\n",
       "    }\n",
       "\n",
       "    .dataframe tbody tr th {\n",
       "        vertical-align: top;\n",
       "    }\n",
       "\n",
       "    .dataframe thead th {\n",
       "        text-align: right;\n",
       "    }\n",
       "</style>\n",
       "<table border=\"1\" class=\"dataframe\">\n",
       "  <thead>\n",
       "    <tr style=\"text-align: right;\">\n",
       "      <th></th>\n",
       "      <th>Row</th>\n",
       "      <th>Yes</th>\n",
       "      <th>No</th>\n",
       "    </tr>\n",
       "  </thead>\n",
       "  <tbody>\n",
       "    <tr>\n",
       "      <th>0</th>\n",
       "      <td>&lt; Young Adult</td>\n",
       "      <td>891</td>\n",
       "      <td>28405</td>\n",
       "    </tr>\n",
       "    <tr>\n",
       "      <th>1</th>\n",
       "      <td>Older Adults and Elderly</td>\n",
       "      <td>6155</td>\n",
       "      <td>28733</td>\n",
       "    </tr>\n",
       "  </tbody>\n",
       "</table>\n",
       "</div>"
      ],
      "text/plain": [
       "                        Row   Yes     No\n",
       "0             < Young Adult   891  28405\n",
       "1  Older Adults and Elderly  6155  28733"
      ]
     },
     "execution_count": 34,
     "metadata": {},
     "output_type": "execute_result"
    }
   ],
   "source": [
    "# Remember that a value of 45 and above would suggest diabetic\n",
    "\n",
    "# when index is 0 -> non-diabetic\n",
    "# when index is 1 -> diabetic\n",
    "\n",
    "values_lowRisk = [0,0]\n",
    "values_highRisk = [0,0]\n",
    "\n",
    "for index, row in data.iterrows():\n",
    "    # Access row values using column names\n",
    "    bool_diabetes = row['diabetes']\n",
    "    age_level = row['age']\n",
    "    i = 0\n",
    "    \n",
    "    if age_level < 45:\n",
    "        if bool_diabetes:\n",
    "            i = 1\n",
    "        values_lowRisk[i] += 1\n",
    "    else:\n",
    "        if bool_diabetes:\n",
    "            i = 1\n",
    "        values_highRisk[i] += 1\n",
    "        \n",
    "print(values_lowRisk,values_highRisk)\n",
    "data_table = {\"Row\": [\"< Young Adult\",\"Older Adults and Elderly\"],\n",
    "              \"Yes\": [values_lowRisk[1],values_highRisk[1]],\n",
    "             \"No\": [values_lowRisk[0],values_highRisk[0]]}\n",
    "\n",
    "df = pd.DataFrame(data_table)\n",
    "df.head()\n",
    "    "
   ]
  },
  {
   "cell_type": "code",
   "execution_count": 35,
   "id": "8c5b4ec5",
   "metadata": {},
   "outputs": [
    {
     "name": "stdout",
     "output_type": "stream",
     "text": [
      "[[0.4971297560292625, 0.1264547260857224], [0.5028702439707375, 0.8735452739142776]]\n"
     ]
    },
    {
     "data": {
      "text/html": [
       "<div>\n",
       "<style scoped>\n",
       "    .dataframe tbody tr th:only-of-type {\n",
       "        vertical-align: middle;\n",
       "    }\n",
       "\n",
       "    .dataframe tbody tr th {\n",
       "        vertical-align: top;\n",
       "    }\n",
       "\n",
       "    .dataframe thead th {\n",
       "        text-align: right;\n",
       "    }\n",
       "</style>\n",
       "<table border=\"1\" class=\"dataframe\">\n",
       "  <thead>\n",
       "    <tr style=\"text-align: right;\">\n",
       "      <th></th>\n",
       "      <th>Row</th>\n",
       "      <th>Yes</th>\n",
       "      <th>No</th>\n",
       "      <th>P(Yes)</th>\n",
       "      <th>P(No)</th>\n",
       "    </tr>\n",
       "  </thead>\n",
       "  <tbody>\n",
       "    <tr>\n",
       "      <th>0</th>\n",
       "      <td>&lt; Young Adult</td>\n",
       "      <td>891</td>\n",
       "      <td>28405</td>\n",
       "      <td>0.126455</td>\n",
       "      <td>0.49713</td>\n",
       "    </tr>\n",
       "    <tr>\n",
       "      <th>1</th>\n",
       "      <td>Older Adults and Elderly</td>\n",
       "      <td>6155</td>\n",
       "      <td>28733</td>\n",
       "      <td>0.873545</td>\n",
       "      <td>0.50287</td>\n",
       "    </tr>\n",
       "    <tr>\n",
       "      <th>2</th>\n",
       "      <td>Total</td>\n",
       "      <td>7046</td>\n",
       "      <td>57138</td>\n",
       "      <td></td>\n",
       "      <td></td>\n",
       "    </tr>\n",
       "  </tbody>\n",
       "</table>\n",
       "</div>"
      ],
      "text/plain": [
       "                        Row   Yes     No    P(Yes)    P(No)\n",
       "0             < Young Adult   891  28405  0.126455  0.49713\n",
       "1  Older Adults and Elderly  6155  28733  0.873545  0.50287\n",
       "2                     Total  7046  57138                   "
      ]
     },
     "execution_count": 35,
     "metadata": {},
     "output_type": "execute_result"
    }
   ],
   "source": [
    "total_yes = values_lowRisk[1]+values_highRisk[1]\n",
    "total_no = values_lowRisk[0]+values_highRisk[0]\n",
    "\n",
    "classifiers['age'] = [[values_lowRisk[0]/total_no,values_lowRisk[1]/total_yes],[values_highRisk[0]/total_no,values_highRisk[1]/total_yes]]\n",
    "print(classifiers['age'])\n",
    "\n",
    "data_table = {\"Row\": [\"< Young Adult\",\"Older Adults and Elderly\", \"Total\"],\n",
    "              \"Yes\": [values_lowRisk[1],values_highRisk[1],values_lowRisk[1]+values_highRisk[1]],\n",
    "              \"No\":  [values_lowRisk[0],values_highRisk[0],values_lowRisk[0]+values_highRisk[0]],\n",
    "              \"P(Yes)\" : [values_lowRisk[1]/(values_lowRisk[1]+values_highRisk[1]),values_highRisk[1]/(values_lowRisk[1]+values_highRisk[1]),\"\"],\n",
    "              \"P(No)\" : [values_lowRisk[0]/(values_lowRisk[0]+values_highRisk[0]),values_highRisk[0]/(values_lowRisk[0]+values_highRisk[0]),\"\"]}\n",
    "\n",
    "df = pd.DataFrame(data_table)\n",
    "df.head()"
   ]
  },
  {
   "cell_type": "markdown",
   "id": "4fd7e14b",
   "metadata": {},
   "source": [
    "## Creating the Naive Bayes Function"
   ]
  },
  {
   "cell_type": "markdown",
   "id": "c3a684b5",
   "metadata": {},
   "source": [
    "The goal of the function below is to accept a row in the format of the dataset and translate it into its corresponding result via Naive Bayes Function. We then check to see whether or now it is correct. We would be releasing it in the format that would follow the said thing"
   ]
  },
  {
   "cell_type": "raw",
   "id": "ae0d809b",
   "metadata": {},
   "source": [
    "['False Positive', 'False']]\n",
    "[['True', 'False Negative']"
   ]
  },
  {
   "cell_type": "markdown",
   "id": "6eba68f0",
   "metadata": {},
   "source": [
    "For the Naive Bayes function, we need to calculate the probability of it being true vs the probability of it being false. Whichever one is the higher value is the decision that the model will take"
   ]
  },
  {
   "cell_type": "code",
   "execution_count": 36,
   "id": "3897b998",
   "metadata": {},
   "outputs": [],
   "source": [
    "# translating because I forgot to do it in the database :sob:\n",
    "def translate_age(age):\n",
    "    if age < 45:\n",
    "        return 0\n",
    "    return 1\n",
    "\n",
    "# temporary function because of not cleaning the data\n",
    "def translate_gender(gender):\n",
    "    if gender == 0:\n",
    "        return 0\n",
    "    return 1\n",
    "\n",
    "def translate_bmi(bmi):\n",
    "    if bmi < 25:\n",
    "        return 0\n",
    "    elif bmi >= 25 and bmi < 30:\n",
    "        return 1\n",
    "    return 2\n",
    "\n",
    "def translate_hb1ac(value):\n",
    "    if value < 5.5:\n",
    "        return 0\n",
    "    elif value >= 5.5 and value < 6.5:\n",
    "        return 1\n",
    "    return 2\n",
    "\n",
    "def translate_glucose(gluc):\n",
    "    if gluc < 200:\n",
    "        return 0\n",
    "    return 1"
   ]
  },
  {
   "cell_type": "markdown",
   "id": "866e43ca",
   "metadata": {},
   "source": [
    "## Testing the Model"
   ]
  },
  {
   "cell_type": "markdown",
   "id": "a93ecaf7",
   "metadata": {},
   "source": [
    "For this, we would be testing the model to see how it fares well. We would be using random sampling in getting the specific rows to test by getting 30% of the total rows and test them against itself. We would be using the same sampled data from Model 1"
   ]
  },
  {
   "cell_type": "markdown",
   "id": "014ea867",
   "metadata": {},
   "source": [
    "Remember that we would be using "
   ]
  },
  {
   "cell_type": "raw",
   "id": "620fa5df",
   "metadata": {},
   "source": [
    "['False Positive', 'False']]\n",
    "[['True', 'False Negative']"
   ]
  },
  {
   "cell_type": "markdown",
   "id": "42e9558b",
   "metadata": {},
   "source": [
    "To test the efficiency of our model."
   ]
  },
  {
   "cell_type": "code",
   "execution_count": 37,
   "id": "d9e465c7",
   "metadata": {},
   "outputs": [
    {
     "data": {
      "text/html": [
       "<div>\n",
       "<style scoped>\n",
       "    .dataframe tbody tr th:only-of-type {\n",
       "        vertical-align: middle;\n",
       "    }\n",
       "\n",
       "    .dataframe tbody tr th {\n",
       "        vertical-align: top;\n",
       "    }\n",
       "\n",
       "    .dataframe thead th {\n",
       "        text-align: right;\n",
       "    }\n",
       "</style>\n",
       "<table border=\"1\" class=\"dataframe\">\n",
       "  <thead>\n",
       "    <tr style=\"text-align: right;\">\n",
       "      <th></th>\n",
       "      <th></th>\n",
       "      <th>Predicted True</th>\n",
       "      <th>Predicted False</th>\n",
       "    </tr>\n",
       "  </thead>\n",
       "  <tbody>\n",
       "    <tr>\n",
       "      <th>0</th>\n",
       "      <td>Actually False</td>\n",
       "      <td>1334</td>\n",
       "      <td>16835</td>\n",
       "    </tr>\n",
       "    <tr>\n",
       "      <th>1</th>\n",
       "      <td>Actually True</td>\n",
       "      <td>798</td>\n",
       "      <td>288</td>\n",
       "    </tr>\n",
       "  </tbody>\n",
       "</table>\n",
       "</div>"
      ],
      "text/plain": [
       "                   Predicted True  Predicted False\n",
       "0  Actually False            1334            16835\n",
       "1   Actually True             798              288"
      ]
     },
     "execution_count": 37,
     "metadata": {},
     "output_type": "execute_result"
    }
   ],
   "source": [
    "true_array = [0,0]\n",
    "false_array = [0,0]\n",
    "\n",
    "predicted = []\n",
    "true_label = []\n",
    "\n",
    "for index, row in random_rows.iterrows():\n",
    "    diabetes_score = row['diabetes']\n",
    "    true_label.append(diabetes_score)\n",
    "    \n",
    "    test = naive_bayes_primitive(row)\n",
    "    predicted.append(test)\n",
    "    \n",
    "    # if the result should be false\n",
    "    if diabetes_score == 0:\n",
    "        false_array[test] += 1\n",
    "    # else if the result should be true\n",
    "    else:\n",
    "        true_array[test] += 1\n",
    "        \n",
    "data_table = {\"\": [\"Actually False\",\"Actually True\"],\n",
    "              \"Predicted True\": true_array,\n",
    "             \"Predicted False\": false_array}\n",
    "\n",
    "true_array_model2 = true_array\n",
    "false_array_model2 = false_array\n",
    "\n",
    "df = pd.DataFrame(data_table)\n",
    "df.head()"
   ]
  },
  {
   "cell_type": "markdown",
   "id": "04fded9f",
   "metadata": {},
   "source": [
    "## F1 Score"
   ]
  },
  {
   "cell_type": "markdown",
   "id": "d582ca52",
   "metadata": {},
   "source": [
    "F1 score is an alternative machine learning evaluation metric that assesses the predictive skill of a model by elaborating on its class-wise performance rather than an overall performance as done by accuracy. F1 score combines two competing metrics- precision and recall scores of a model, leading to its widespread use in recent literature.\n",
    "\n",
    "https://www.statology.org/what-is-a-good-f1-score/\n",
    "\n",
    "https://www.v7labs.com/blog/f1-score-guide"
   ]
  },
  {
   "cell_type": "code",
   "execution_count": 38,
   "id": "7eacdcec",
   "metadata": {},
   "outputs": [
    {
     "name": "stdout",
     "output_type": "stream",
     "text": [
      "F1 score: 0.4959602237414543\n"
     ]
    }
   ],
   "source": [
    "from sklearn.metrics import f1_score\n",
    "\n",
    "# Calculate the F1 score\n",
    "f1 = f1_score(predicted, true_label)\n",
    "f1_model2 = f1\n",
    "\n",
    "print(\"F1 score:\", f1)"
   ]
  },
  {
   "cell_type": "markdown",
   "id": "72d4c9e3",
   "metadata": {},
   "source": [
    "## Area Under the Curve - Receiver Operating Characteristic"
   ]
  },
  {
   "cell_type": "markdown",
   "id": "ab6e4c3a",
   "metadata": {},
   "source": [
    "Area Under the Curve of the Receiver Operating Characteristic  is basically a way of measuring the performance of an ML model. AUC measures the ability of a binary classifier to distinguish between classes and is used as a summary of the ROC curve.\n",
    "\n",
    "The ROC AUC score tells us how efficient the model is. The higher the AUC, the better the model’s performance at distinguishing between the positive and negative classes. An AUC score of 1 means the classifier can perfectly distinguish between all the Positive and the Negative class points. An AUC value of 0 shows that the classifier predicts all Negatives as Positives and vice versa.\n",
    "\n",
    "An ROC-AUC score of 0.7-0.8 means that the model is acceptable. A score of 0.5 means that the model has trouble distinguishing classes. A score of 0.8 and above means that the model is excellent.\n",
    "\n",
    "https://www.sciencedirect.com/science/article/pii/S1556086415306043\n",
    "\n",
    "https://www.analyticsvidhya.com/blog/2020/06/auc-roc-curve-machine-learning/"
   ]
  },
  {
   "cell_type": "code",
   "execution_count": 39,
   "id": "757c8d39",
   "metadata": {},
   "outputs": [
    {
     "name": "stdout",
     "output_type": "stream",
     "text": [
      "AUC-ROC: 0.678738476352369\n"
     ]
    }
   ],
   "source": [
    "from sklearn.metrics import roc_auc_score\n",
    "\n",
    "# Calculate the AUC-ROC\n",
    "auc_roc = roc_auc_score(true_label, predicted)\n",
    "auc_roc_model2 = auc_roc\n",
    "\n",
    "print(\"AUC-ROC:\", auc_roc)"
   ]
  },
  {
   "cell_type": "markdown",
   "id": "1914f962",
   "metadata": {},
   "source": [
    "## Basic Observation"
   ]
  },
  {
   "cell_type": "code",
   "execution_count": 40,
   "id": "a7a6b3ac",
   "metadata": {},
   "outputs": [
    {
     "name": "stdout",
     "output_type": "stream",
     "text": [
      "0.915762139703973\n"
     ]
    }
   ],
   "source": [
    "num_of_wrong = false_array[1] + true_array[0]\n",
    "num_of_correct = false_array[0] + true_array[1]\n",
    "\n",
    "print(num_of_correct / (num_of_wrong + num_of_correct))"
   ]
  },
  {
   "cell_type": "markdown",
   "id": "a81003d6",
   "metadata": {},
   "source": [
    "## Model 3 (Naive Bayes Gausian without Classification)"
   ]
  },
  {
   "cell_type": "markdown",
   "id": "51624ba1",
   "metadata": {},
   "source": [
    "This method comes from \"insert yt link here kek\" in where he created a Naive Bayes Gausian model from scratch. We are going to be using this to compare our other models."
   ]
  },
  {
   "cell_type": "code",
   "execution_count": 41,
   "id": "57c8da96",
   "metadata": {},
   "outputs": [],
   "source": [
    "def calculate_prior(df, Y):\n",
    "    classes = sorted(list(df[Y].unique()))\n",
    "    prior = []\n",
    "    for i in classes:\n",
    "        prior.append(len(df[df[Y]==i])/len(df))\n",
    "    return prior\n",
    "\n",
    "def calculate_likelihood_gaussian(df, feat_name, feat_val, Y, label):\n",
    "    feat = list(df.columns)\n",
    "    df = df[df[Y]==label]\n",
    "    mean, std = df[feat_name].mean(), df[feat_name].std()\n",
    "    p_x_given_y = (1 / (np.sqrt(2 * np.pi) * std)) *  np.exp(-((feat_val-mean)**2 / (2 * std**2 )))\n",
    "    return p_x_given_y\n",
    "\n",
    "def naive_bayes_gaussian(df, X, Y):\n",
    "    # get feature names\n",
    "    features = list(df.columns)[:-1]\n",
    "\n",
    "    # calculate prior\n",
    "    prior = calculate_prior(df, Y)\n",
    "\n",
    "    Y_pred = []\n",
    "    # loop over every data sample\n",
    "    for x in X:\n",
    "        # calculate likelihood\n",
    "        labels = sorted(list(df[Y].unique()))\n",
    "        likelihood = [1]*len(labels)\n",
    "        for j in range(len(labels)):\n",
    "            for i in range(len(features)):\n",
    "                likelihood[j] *= calculate_likelihood_gaussian(df, features[i], x[i], Y, labels[j])\n",
    "\n",
    "        # calculate posterior probability (numerator only)\n",
    "        post_prob = [1]*len(labels)\n",
    "        for j in range(len(labels)):\n",
    "            post_prob[j] = likelihood[j] * prior[j]\n",
    "\n",
    "        Y_pred.append(np.argmax(post_prob))\n",
    "\n",
    "    return np.array(Y_pred) "
   ]
  },
  {
   "cell_type": "code",
   "execution_count": 42,
   "id": "32220057",
   "metadata": {},
   "outputs": [],
   "source": [
    "X_test = random_rows.iloc[:,:-1].values\n",
    "Y_test = random_rows.iloc[:,-1].values\n",
    "Y_pred = naive_bayes_gaussian(remaining_rows, X=X_test, Y=\"diabetes\")"
   ]
  },
  {
   "cell_type": "code",
   "execution_count": 43,
   "id": "360b5e3f",
   "metadata": {},
   "outputs": [
    {
     "name": "stdout",
     "output_type": "stream",
     "text": [
      "[[15972  1151]\n",
      " [  711  1421]]\n",
      "0.6041666666666667\n",
      "AUC-ROC: 0.7996453948306257\n"
     ]
    }
   ],
   "source": [
    "from sklearn.metrics import confusion_matrix, f1_score\n",
    "print(confusion_matrix(Y_test, Y_pred))\n",
    "print(f1_score(Y_test, Y_pred))\n",
    "\n",
    "from sklearn.metrics import roc_auc_score\n",
    "\n",
    "# Calculate the AUC-ROC\n",
    "auc_roc_model = roc_auc_score(Y_test, Y_pred)\n",
    "\n",
    "print(\"AUC-ROC:\", auc_roc_model)"
   ]
  },
  {
   "cell_type": "markdown",
   "id": "d1485d1c",
   "metadata": {},
   "source": [
    "# Overall Analysis"
   ]
  },
  {
   "cell_type": "code",
   "execution_count": 44,
   "id": "74029dfa",
   "metadata": {},
   "outputs": [
    {
     "data": {
      "text/html": [
       "<div>\n",
       "<style scoped>\n",
       "    .dataframe tbody tr th:only-of-type {\n",
       "        vertical-align: middle;\n",
       "    }\n",
       "\n",
       "    .dataframe tbody tr th {\n",
       "        vertical-align: top;\n",
       "    }\n",
       "\n",
       "    .dataframe thead th {\n",
       "        text-align: right;\n",
       "    }\n",
       "</style>\n",
       "<table border=\"1\" class=\"dataframe\">\n",
       "  <thead>\n",
       "    <tr style=\"text-align: right;\">\n",
       "      <th></th>\n",
       "      <th></th>\n",
       "      <th>F1 Score</th>\n",
       "      <th>AUC-ROC</th>\n",
       "    </tr>\n",
       "  </thead>\n",
       "  <tbody>\n",
       "    <tr>\n",
       "      <th>0</th>\n",
       "      <td>Primitive w/o Fine tuning</td>\n",
       "      <td>0.503025</td>\n",
       "      <td>0.691130</td>\n",
       "    </tr>\n",
       "    <tr>\n",
       "      <th>1</th>\n",
       "      <td>Primitive with Fine tuning</td>\n",
       "      <td>0.495960</td>\n",
       "      <td>0.678738</td>\n",
       "    </tr>\n",
       "    <tr>\n",
       "      <th>2</th>\n",
       "      <td>Existing Model</td>\n",
       "      <td>0.604167</td>\n",
       "      <td>0.799645</td>\n",
       "    </tr>\n",
       "  </tbody>\n",
       "</table>\n",
       "</div>"
      ],
      "text/plain": [
       "                               F1 Score   AUC-ROC\n",
       "0   Primitive w/o Fine tuning  0.503025  0.691130\n",
       "1  Primitive with Fine tuning  0.495960  0.678738\n",
       "2              Existing Model  0.604167  0.799645"
      ]
     },
     "execution_count": 44,
     "metadata": {},
     "output_type": "execute_result"
    }
   ],
   "source": [
    "overall_table = {\"\": [\"Primitive w/o Fine tuning\", \"Primitive with Fine tuning\", \"Existing Model\"],\n",
    "                 \"F1 Score\": [f1_model1,f1_model2,f1_score(Y_test,Y_pred)],\n",
    "                 \"AUC-ROC\": [auc_roc_model1,auc_roc_model2,auc_roc_model]}\n",
    "\n",
    "df = pd.DataFrame(overall_table)\n",
    "df.head()"
   ]
  },
  {
   "cell_type": "markdown",
   "id": "6d0258a4",
   "metadata": {},
   "source": [
    "On one run, we can see that the model without the added constraints in the features work better but performed similarly. The pre-existing model works better than the implemented model however. This may have something to do with feature extraction and categorization."
   ]
  }
 ],
 "metadata": {
  "kernelspec": {
   "display_name": "Python 3 (ipykernel)",
   "language": "python",
   "name": "python3"
  },
  "language_info": {
   "codemirror_mode": {
    "name": "ipython",
    "version": 3
   },
   "file_extension": ".py",
   "mimetype": "text/x-python",
   "name": "python",
   "nbconvert_exporter": "python",
   "pygments_lexer": "ipython3",
   "version": "3.10.9"
  }
 },
 "nbformat": 4,
 "nbformat_minor": 5
}
